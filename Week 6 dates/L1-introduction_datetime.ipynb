{
 "cells": [
  {
   "cell_type": "markdown",
   "metadata": {},
   "source": [
    "## datetime module\n",
    "\n",
    "\n",
    "\n",
    "\n",
    "\n",
    "The `datetime` module provides six main high-level interface classes:\n",
    "\n",
    "- `date`: An idealized date that assumes the Gregorian calendar extends infinitely into the future and past. It stores the year, month, and day as attributes.\n",
    "- `time`: An idealized time that assumes there are $24 \\times 60 \\times 60=86,400$ seconds per day with no leap seconds. This object stores the hour, minute, second, microsecond, and tzinfo (time zone information).\n",
    "- `datetime`: A combination of a date and a time. It has all the attributes of both classes.\n",
    "- `timedelta`: A duration expressing the difference between two date, time, or datetime objects to microsecond resolution.\n",
    "- `tzinfo`: Provides timezone-related information objects.\n",
    "- `timezone`: A class that implements the `tzinfo` abstract base class as a fixed offset from the UTC.\n",
    "\n",
    "There is also a `calendar` module for dealing with calendar functions\n",
    "- month and week arithmetic\n",
    "- formatting outputs"
   ]
  },
  {
   "cell_type": "code",
   "execution_count": 1,
   "metadata": {},
   "outputs": [],
   "source": [
    "import datetime"
   ]
  },
  {
   "cell_type": "markdown",
   "metadata": {},
   "source": [
    "**What is inside `datetime`?**"
   ]
  },
  {
   "cell_type": "code",
   "execution_count": 2,
   "metadata": {},
   "outputs": [
    {
     "name": "stdout",
     "output_type": "stream",
     "text": [
      "['MAXYEAR', 'MINYEAR', 'UTC', '__all__', '__builtins__', '__cached__', '__doc__', '__file__', '__loader__', '__name__', '__package__', '__spec__', 'date', 'datetime', 'datetime_CAPI', 'time', 'timedelta', 'timezone', 'tzinfo']\n"
     ]
    }
   ],
   "source": [
    "print(dir(datetime))"
   ]
  },
  {
   "cell_type": "markdown",
   "metadata": {},
   "source": [
    "## Times"
   ]
  },
  {
   "cell_type": "markdown",
   "metadata": {},
   "source": [
    "- Time values are represented with the **time** class. \n",
    "- Times have attributes for hour, minute, second, and microsecond. \n",
    "\n",
    "```python\n",
    "datetime.time(hour=0, minute=0, second=0, microsecond=0, \n",
    "              tzinfo=None, *, fold=0)\n",
    "```\n",
    "more information in the [documentation](https://docs.python.org/3/library/time.html)"
   ]
  },
  {
   "cell_type": "code",
   "execution_count": 3,
   "metadata": {},
   "outputs": [],
   "source": [
    "t=datetime.time(1, 2, 3)"
   ]
  },
  {
   "cell_type": "code",
   "execution_count": 4,
   "metadata": {},
   "outputs": [
    {
     "name": "stdout",
     "output_type": "stream",
     "text": [
      "01:02:03\n"
     ]
    }
   ],
   "source": [
    "print(t)"
   ]
  },
  {
   "cell_type": "code",
   "execution_count": 5,
   "metadata": {},
   "outputs": [
    {
     "name": "stdout",
     "output_type": "stream",
     "text": [
      "hour  :      1\n",
      "minute:      2\n",
      "second:      3\n",
      "microsecond: 0\n",
      "tzinfo:      None\n"
     ]
    }
   ],
   "source": [
    "print (f'hour  :      {t.hour}')\n",
    "print (f'minute:      {t.minute}')\n",
    "print (f'second:      {t.second}')\n",
    "print (f'microsecond: {t.microsecond}')\n",
    "print (f'tzinfo:      {t.tzinfo}')"
   ]
  },
  {
   "cell_type": "markdown",
   "metadata": {},
   "source": [
    "The variable <B>t</B> only holds values of time, and not a date associated with the time.\n",
    "<P>\n",
    "You can get the valid range of times in a single day:"
   ]
  },
  {
   "cell_type": "code",
   "execution_count": 6,
   "metadata": {},
   "outputs": [
    {
     "name": "stdout",
     "output_type": "stream",
     "text": [
      "Earliest  : 00:00:00\n",
      "Latest    : 23:59:59.999999\n",
      "Resolution: 0:00:00.000001\n"
     ]
    }
   ],
   "source": [
    "print ('Earliest  :', datetime.time.min)\n",
    "print ('Latest    :', datetime.time.max)\n",
    "print ('Resolution:', datetime.time.resolution)"
   ]
  },
  {
   "cell_type": "markdown",
   "metadata": {},
   "source": [
    "Note that the resolution for time is limited to whole microseconds."
   ]
  },
  {
   "cell_type": "markdown",
   "metadata": {},
   "source": [
    "---\n",
    "\n",
    "### <font color=\"blue\">Breakout 1</font>\n",
    "Create a `time` object with 5 microseconds and 39 minutes.\n",
    "\n",
    "<p>\n",
    "\n",
    "<details><summary><b>Click here to access the solution</b></summary>\n",
    "<p>\n",
    "\n",
    "\n",
    "```python\n",
    "t = datetime.time(microsecond=5, minute=29)\n",
    "print(t)\n",
    "```\n",
    "\n",
    "</p>\n",
    "</details>\n",
    "\n",
    "---"
   ]
  },
  {
   "cell_type": "code",
   "execution_count": 41,
   "metadata": {},
   "outputs": [
    {
     "name": "stdout",
     "output_type": "stream",
     "text": [
      "00:29:00.000005\n"
     ]
    }
   ],
   "source": [
    "t = datetime.time(microsecond=5, minute=29)\n",
    "print(t)"
   ]
  },
  {
   "cell_type": "markdown",
   "metadata": {},
   "source": [
    "## Dates"
   ]
  },
  {
   "cell_type": "markdown",
   "metadata": {},
   "source": [
    "- Calendar date values are represented with the **date** class.\n",
    "- A date is represented in terms of year, month, and day. \n",
    "- It is easy to create a date representing today’s date using the **today()** class method.\n",
    "    \n",
    "```python\n",
    "datetime.date(year, month, day)\n",
    "```\n",
    "More information in the [documentation](https://docs.python.org/3/library/datetime.html#date-objects)"
   ]
  },
  {
   "cell_type": "code",
   "execution_count": 7,
   "metadata": {},
   "outputs": [
    {
     "name": "stdout",
     "output_type": "stream",
     "text": [
      "today: \n",
      "\t 2024-11-04\n",
      "ctime: \n",
      "\t Mon Nov  4 00:00:00 2024\n",
      "tuple: \n",
      "\t time.struct_time(tm_year=2024, tm_mon=11, tm_mday=4, tm_hour=0, tm_min=0, tm_sec=0, tm_wday=0, tm_yday=309, tm_isdst=-1)\n",
      "ordinal: \n",
      "\t 739194\n",
      "Year: \n",
      "\t 2024\n",
      "Mon: \n",
      "\t 11\n",
      "Day: \n",
      "\t 4\n"
     ]
    }
   ],
   "source": [
    "today = datetime.date.today()\n",
    "print (f'today: \\n\\t {today}')\n",
    "print (f'ctime: \\n\\t {today.ctime()}')\n",
    "print (f'tuple: \\n\\t {today.timetuple()}')\n",
    "print (f'ordinal: \\n\\t {today.toordinal()}')\n",
    "print (f'Year: \\n\\t {today.year}')\n",
    "print (f'Mon: \\n\\t {today.month}')\n",
    "print (f'Day: \\n\\t {today.day}')"
   ]
  },
  {
   "cell_type": "markdown",
   "metadata": {},
   "source": [
    "There are also class methods for creating instances from integers (using proleptic Gregorian ordinal values, which starts counting from Jan. 1 of the year 1) or POSIX timestamp values.\n",
    "\n",
    "The following example illustrates the different value types used by:\n",
    "\n",
    "- `fromordinal()`: Return the date corresponding to the proleptic Gregorian ordinal, (number of days elapsed from the date 01/Jan/0001)\n",
    "- `fromtimestamp()`: Return the local date corresponding to the timestamp."
   ]
  },
  {
   "cell_type": "code",
   "execution_count": 8,
   "metadata": {},
   "outputs": [
    {
     "name": "stdout",
     "output_type": "stream",
     "text": [
      "o = 733114 and fromordinal(o) = 2008-03-13\n",
      "t = 1730701232.7725916 and fromtimestamp(t) = 2024-11-04\n"
     ]
    }
   ],
   "source": [
    "import time\n",
    "\n",
    "o = 733114\n",
    "print (f'o = {o} and fromordinal(o) = {datetime.date.fromordinal(o)}')\n",
    "\n",
    "t = time.time()\n",
    "print (f't = {t} and fromtimestamp(t) = {datetime.date.fromtimestamp(t)}')"
   ]
  },
  {
   "cell_type": "markdown",
   "metadata": {},
   "source": [
    "We can also determine the range of date values:"
   ]
  },
  {
   "cell_type": "code",
   "execution_count": 9,
   "metadata": {},
   "outputs": [
    {
     "name": "stdout",
     "output_type": "stream",
     "text": [
      "Earliest:   0001-01-01\n",
      "Latest:     9999-12-31\n",
      "Resolution: 1 day, 0:00:00\n"
     ]
    }
   ],
   "source": [
    "print (f'Earliest:   {datetime.date.min}')\n",
    "print (f'Latest:     {datetime.date.max}')\n",
    "print (f'Resolution: {datetime.date.resolution}')"
   ]
  },
  {
   "cell_type": "markdown",
   "metadata": {},
   "source": [
    "Note too that the resolution for dates is a whole day.\n",
    "<P>\n",
    "Another way to create new date instances uses the <B>replace()</B> method of an existing date. For example, you can change the year, leaving the day and month alone."
   ]
  },
  {
   "cell_type": "code",
   "execution_count": 10,
   "metadata": {},
   "outputs": [
    {
     "name": "stdout",
     "output_type": "stream",
     "text": [
      "d1: 2022-07-05\n",
      "d2: 2023-07-05\n"
     ]
    }
   ],
   "source": [
    "d1 = datetime.date(2022, 7, 5)\n",
    "print ('d1:', d1)\n",
    "\n",
    "d2 = d1.replace(year=2023)\n",
    "print ('d2:', d2)"
   ]
  },
  {
   "cell_type": "code",
   "execution_count": 11,
   "metadata": {},
   "outputs": [
    {
     "name": "stdout",
     "output_type": "stream",
     "text": [
      "Help on built-in function replace:\n",
      "\n",
      "replace(...) method of datetime.date instance\n",
      "    Return date with new specified fields.\n",
      "\n"
     ]
    }
   ],
   "source": [
    "help(d1.replace)"
   ]
  },
  {
   "cell_type": "markdown",
   "metadata": {},
   "source": [
    "---\n",
    "\n",
    "### <font color=\"blue\">Breakout 2</font>\n",
    "Create a `date` object where year is 2023 and the day is 5.\n",
    "\n",
    "<p>\n",
    "\n",
    "<details><summary><b>Click here to access the solution</b></summary>\n",
    "<p>\n",
    "\n",
    "\n",
    "```python\n",
    "d = datetime.time(day=5, year=2023)\n",
    "print(d)\n",
    "```\n",
    "\n",
    "</p>\n",
    "</details>\n",
    "\n",
    "---"
   ]
  },
  {
   "cell_type": "code",
   "execution_count": 43,
   "metadata": {},
   "outputs": [
    {
     "name": "stdout",
     "output_type": "stream",
     "text": [
      "2023-09-05\n"
     ]
    }
   ],
   "source": [
    "d = datetime.date(day=5, month=9, year=2023)\n",
    "print(d)"
   ]
  },
  {
   "cell_type": "markdown",
   "metadata": {},
   "source": [
    "## timedeltas"
   ]
  },
  {
   "cell_type": "markdown",
   "metadata": {},
   "source": [
    "- Timedelta objects represent a duration.\n",
    "- Can be used to calculate the difference between two dates or times.\n",
    "- We can use <B>datetime</B> to perform basic arithmetic on date values via the <B>timedelta</B> class.\n",
    "\n",
    "```python\n",
    "datetime.timedelta(days=0, seconds=0, microseconds=0, \n",
    "                   milliseconds=0, minutes=0, hours=0, weeks=0)\n",
    "```"
   ]
  },
  {
   "cell_type": "code",
   "execution_count": 12,
   "metadata": {},
   "outputs": [
    {
     "name": "stdout",
     "output_type": "stream",
     "text": [
      "microseconds: 0:00:00.000001\n",
      "milliseconds: 0:00:00.001000\n",
      "seconds:      0:00:01\n",
      "minutes:      0:01:00\n",
      "hours:        1:00:00\n",
      "days:         1 day, 0:00:00\n",
      "weeks:        7 days, 0:00:00\n"
     ]
    }
   ],
   "source": [
    "print (f\"microseconds: {datetime.timedelta(microseconds=1)}\")\n",
    "print (f\"milliseconds: {datetime.timedelta(milliseconds=1)}\")\n",
    "print (f\"seconds:      {datetime.timedelta(seconds=1)}\")\n",
    "print (f\"minutes:      {datetime.timedelta(minutes=1)}\")\n",
    "print (f\"hours:        {datetime.timedelta(hours=1)}\")\n",
    "print (f\"days:         {datetime.timedelta(days=1)}\")\n",
    "print (f\"weeks:        {datetime.timedelta(weeks=1)}\")"
   ]
  },
  {
   "cell_type": "markdown",
   "metadata": {},
   "source": [
    "### <font color='green'>Date Arithmetic</font>\n",
    "\n",
    "- Date math uses the standard arithmetic operators. \n",
    "- The following example with date objects illustrates using <B>timedelta</B> objects to compute new dates, and subtracting date instances to produce timedeltas (including a negative delta value).\n"
   ]
  },
  {
   "cell_type": "code",
   "execution_count": 13,
   "metadata": {},
   "outputs": [
    {
     "name": "stdout",
     "output_type": "stream",
     "text": [
      "Today: 2024-11-04\n"
     ]
    }
   ],
   "source": [
    "today = datetime.date.today()\n",
    "print('Today:', today)"
   ]
  },
  {
   "cell_type": "code",
   "execution_count": 14,
   "metadata": {},
   "outputs": [
    {
     "name": "stdout",
     "output_type": "stream",
     "text": [
      "One timedelta day: 1 day, 0:00:00\n"
     ]
    }
   ],
   "source": [
    "one_timedelta_day = datetime.timedelta(days=1)\n",
    "print('One timedelta day:', one_timedelta_day)"
   ]
  },
  {
   "cell_type": "code",
   "execution_count": 15,
   "metadata": {},
   "outputs": [
    {
     "name": "stdout",
     "output_type": "stream",
     "text": [
      "Yesterday: 2024-11-03\n"
     ]
    }
   ],
   "source": [
    "yesterday = today - one_timedelta_day\n",
    "print('Yesterday:', yesterday)"
   ]
  },
  {
   "cell_type": "code",
   "execution_count": 16,
   "metadata": {},
   "outputs": [
    {
     "name": "stdout",
     "output_type": "stream",
     "text": [
      "Tomorrow: 2024-11-05\n"
     ]
    }
   ],
   "source": [
    "tomorrow = today + one_timedelta_day\n",
    "print('Tomorrow:', tomorrow)"
   ]
  },
  {
   "cell_type": "code",
   "execution_count": 17,
   "metadata": {},
   "outputs": [
    {
     "name": "stdout",
     "output_type": "stream",
     "text": [
      "tomorrow - yesterday: 2 days, 0:00:00\n",
      "yesterday - tomorrow: -2 days, 0:00:00\n"
     ]
    }
   ],
   "source": [
    "print('tomorrow - yesterday:', tomorrow - yesterday)\n",
    "print('yesterday - tomorrow:', yesterday - tomorrow)"
   ]
  },
  {
   "cell_type": "markdown",
   "metadata": {},
   "source": [
    "---\n",
    "\n",
    "### <font color=\"blue\">Breakout 3</font>\n",
    "Create an arbitrary `date` object and add five weeks. Print the new date.\n",
    "\n",
    "<p>\n",
    "\n",
    "<details><summary><b>Click here to access the solution</b></summary>\n",
    "<p>\n",
    "\n",
    "\n",
    "```python\n",
    "date = datetime.date.today()\n",
    "print(date)\n",
    "new_date = date + datetime.timedelta(weeks=5)\n",
    "print(new_date)\n",
    "```\n",
    "\n",
    "</p>\n",
    "</details>\n",
    "\n",
    "---"
   ]
  },
  {
   "cell_type": "code",
   "execution_count": 44,
   "metadata": {},
   "outputs": [
    {
     "name": "stdout",
     "output_type": "stream",
     "text": [
      "2024-11-04\n",
      "2024-12-09\n"
     ]
    }
   ],
   "source": [
    "date = datetime.date.today()\n",
    "print(date)\n",
    "new_date = date + datetime.timedelta(weeks=5)\n",
    "print(new_date)"
   ]
  },
  {
   "cell_type": "markdown",
   "metadata": {},
   "source": [
    "## Comparing Values"
   ]
  },
  {
   "cell_type": "markdown",
   "metadata": {},
   "source": [
    "Both date and time values can be compared using the standard operators to determine which is earlier or later."
   ]
  },
  {
   "cell_type": "code",
   "execution_count": 18,
   "metadata": {},
   "outputs": [
    {
     "name": "stdout",
     "output_type": "stream",
     "text": [
      "Times:\n",
      "\tt1: 12:55:00\n",
      "\tt2: 13:05:00\n",
      "\tt1 < t2: True\n"
     ]
    }
   ],
   "source": [
    "print ('Times:')\n",
    "t1 = datetime.time(12, 55, 0)\n",
    "print ('\\tt1:', t1)\n",
    "t2 = datetime.time(13, 5, 0)\n",
    "print ('\\tt2:', t2)\n",
    "print ('\\tt1 < t2:', t1 < t2)"
   ]
  },
  {
   "cell_type": "code",
   "execution_count": 19,
   "metadata": {},
   "outputs": [
    {
     "name": "stdout",
     "output_type": "stream",
     "text": [
      "Dates:\n",
      "\td1: 2024-11-04\n",
      "\td2: 2024-11-05\n",
      "\td1 > d2: False\n"
     ]
    }
   ],
   "source": [
    "print ('Dates:')\n",
    "d1 = datetime.date.today()\n",
    "print ('\\td1:', d1)\n",
    "d2 = datetime.date.today() + datetime.timedelta(days=1)\n",
    "print ('\\td2:', d2)\n",
    "print ('\\td1 > d2:', d1 > d2)"
   ]
  },
  {
   "cell_type": "markdown",
   "metadata": {},
   "source": [
    "## Combining Dates and Times:  `datetime`  Class\n",
    "\n",
    "- We can use the datetime class to hold values consisting of both date and time components. \n",
    "- Represents all the attributes from date and time objects.\n",
    "\n",
    "```python\n",
    "datetime.datetime(year, month, day, \n",
    "                  hour=0, minute=0, second=0, \n",
    "                  microsecond=0, tzinfo=None, *, fold=0)\n",
    "```\n",
    "more infomation in the [documentation](https://docs.python.org/3/library/datetime.html)"
   ]
  },
  {
   "cell_type": "code",
   "execution_count": 20,
   "metadata": {},
   "outputs": [
    {
     "name": "stdout",
     "output_type": "stream",
     "text": [
      "Now:     2024-11-04 06:20:33.011662\n",
      "Today:   2024-11-04 06:20:33.011662\n",
      "UTC Now: 2024-11-04 06:20:33.011662\n"
     ]
    },
    {
     "name": "stderr",
     "output_type": "stream",
     "text": [
      "C:\\Users\\curleys\\AppData\\Local\\Temp\\ipykernel_17700\\2921065448.py:3: DeprecationWarning: datetime.datetime.utcnow() is deprecated and scheduled for removal in a future version. Use timezone-aware objects to represent datetimes in UTC: datetime.datetime.now(datetime.UTC).\n",
      "  print(f'UTC Now: {datetime.datetime.utcnow()}')\n"
     ]
    }
   ],
   "source": [
    "print(f'Now:     {datetime.datetime.now()}')\n",
    "print(f'Today:   {datetime.datetime.today()}')\n",
    "print(f'UTC Now: {datetime.datetime.utcnow()}')"
   ]
  },
  {
   "cell_type": "code",
   "execution_count": 21,
   "metadata": {},
   "outputs": [
    {
     "name": "stdout",
     "output_type": "stream",
     "text": [
      "year: 2024\n",
      "month: 11\n",
      "day: 4\n",
      "hour: 6\n",
      "minute: 20\n",
      "second: 33\n",
      "microsecond: 24052\n"
     ]
    }
   ],
   "source": [
    "d = datetime.datetime.now()\n",
    "for attr in [ 'year', 'month', 'day', 'hour', 'minute', 'second', 'microsecond']:\n",
    "    print(f\"{attr}: {getattr(d, attr)}\")"
   ]
  },
  {
   "cell_type": "code",
   "execution_count": 22,
   "metadata": {},
   "outputs": [
    {
     "name": "stdout",
     "output_type": "stream",
     "text": [
      "Current date & time =         2024-11-04 06:20:33.041528\n",
      "Date and time in ISO format = 2024-11-04T06:20:33.041528\n",
      "Current year =                2024\n",
      "Current month =               11\n",
      "Current date (day) =          4\n",
      "dd/mm/yyyy format =           4/11/2024\n",
      "Current hour =                6\n",
      "Current minute =              20\n",
      "Current second =              33\n",
      "hh:mm:ss format =             6:11:33\n"
     ]
    }
   ],
   "source": [
    "NOW = datetime.datetime.now()\n",
    " \n",
    "print(f\"Current date & time =         {NOW}\")\n",
    "print(f\"Date and time in ISO format = {NOW.isoformat()}\")\n",
    "print(f\"Current year =                {NOW.year}\")\n",
    "print(f\"Current month =               {NOW.month}\")\n",
    "print(f\"Current date (day) =          {NOW.day}\")\n",
    "print(f\"dd/mm/yyyy format =           {NOW.day}/{NOW.month}/{NOW.year}\")\n",
    "print(f\"Current hour =                {NOW.hour}\")\n",
    "print(f\"Current minute =              {NOW.minute}\")\n",
    "print(f\"Current second =              {NOW.second}\")\n",
    "print(f\"hh:mm:ss format =             {NOW.hour}:{NOW.month}:{NOW.second}\")"
   ]
  },
  {
   "cell_type": "markdown",
   "metadata": {},
   "source": [
    "* Just as with date, datetime provides convenient class methods for creating new instances. It also includes `fromordinal()` and `fromtimestamp()`. \n",
    "* In addition, `combine()` can be useful if you already have a date instance and time instance and want to create a datetime."
   ]
  },
  {
   "cell_type": "code",
   "execution_count": 23,
   "metadata": {},
   "outputs": [
    {
     "name": "stdout",
     "output_type": "stream",
     "text": [
      "t : 01:02:03\n",
      "d : 2024-11-04\n",
      "dt: 2024-11-04 01:02:03\n"
     ]
    }
   ],
   "source": [
    "t = datetime.time(1, 2, 3)\n",
    "print ('t :', t)\n",
    "\n",
    "d = datetime.date.today()\n",
    "print ('d :', d)\n",
    "\n",
    "dt = datetime.datetime.combine(d, t)\n",
    "print ('dt:', dt)"
   ]
  },
  {
   "cell_type": "markdown",
   "metadata": {},
   "source": [
    "## Formating and Parsing"
   ]
  },
  {
   "cell_type": "markdown",
   "metadata": {},
   "source": [
    "* The default string representation of a datetime object uses the format: `YYYY-MM-DDTHH:MM:SS.mmmmmm` \n",
    "* Alternate formats can be generated using `strftime()` function. \n",
    "     - Converts datetime objects into strings.\n",
    "     - Uses different control code to give an output.\n",
    "     - Each control code resembles different parameters like year, month, weekday and date.\n",
    "* If your input data includes timestamp values parsable with `time.strptime()`, then `datetime.strptime()` is a convenient way to convert them to datetime instances."
   ]
  },
  {
   "cell_type": "markdown",
   "metadata": {},
   "source": [
    "**Useful `strptime` and `strftime` Patterns**\n",
    "\n",
    "|Directive | Meaning |\n",
    "| --- | --- |\n",
    "| `%a` | Weekday as locale's abbreviated name |\n",
    "| `%A` | Weekday as locale's full name |\n",
    "| `%w` | Weekday as decimal number, where 0 is Sunday and 6 is Saturday |\n",
    "| `%d` | Day of the month as a zero-padded decimal number [01, 02, ..., 30, 31] |\n",
    "| `%b` | Month as locale's abbreviated name |\n",
    "| `%B` | Weekday as locale's full name |\n",
    "| `%m` | Month as zero-padded decimal number [01, 02, ..., 11, 12] |\n",
    "| `%y` | Year without century as a zero-padded decimal number name [0001, ..., 2019, 2020, ..., 9999] |\n",
    "| `%Y` | Year with century as a decimal number  |\n",
    "| `%H` | Hour (24-hour clock) as a zero-padded decimal number [00, 01, ..., 22, 23] |\n",
    "| `%I` | Hour (12-hour clock) as a zero-padded decimal number |\n",
    "| `%p` | Locale equivalent of either AM or PM |\n",
    "| `%M` | Minute as a zero-padded decimal number [00, 01, ..., 58, 59]|\n",
    "| `%S` | Second as a zero-padded decimal number [00, 01, ..., 58, 59]|\n",
    "| `%f` | Microsecond as a zero-padded decimal number |\n",
    "| `%j` | Day of the year as a zero-padded decimal number |\n",
    "| `%W` | Week number of the year (Monday as the first day of the week) as a decimal number |\n",
    "| `%U` | Week number of the year (Sunday as the first day of the week) as a decimal number |\n",
    "| `%c` | Locale’s appropriate date and time representation |\n",
    "| `%Z` | Time zone name |\n",
    "| `%z` | UTC offset in the form HH[SS[.fffff]] |\n"
   ]
  },
  {
   "cell_type": "markdown",
   "metadata": {},
   "source": [
    "**Formatting**"
   ]
  },
  {
   "cell_type": "markdown",
   "metadata": {},
   "source": [
    "Weekday Month Day Hour:Minute:Second Year"
   ]
  },
  {
   "cell_type": "code",
   "execution_count": 24,
   "metadata": {},
   "outputs": [
    {
     "name": "stdout",
     "output_type": "stream",
     "text": [
      "ISO: 2024-11-04 06:20:33.073931\n",
      "strftime: Mon 04 Nov 06:20:33 2024\n"
     ]
    }
   ],
   "source": [
    "format = \"%a %d %b %H:%M:%S %Y\"\n",
    "\n",
    "today = datetime.datetime.today()\n",
    "print (f'ISO: {today}')\n",
    "\n",
    "s = today.strftime(format)\n",
    "print (f'strftime: {s}')"
   ]
  },
  {
   "cell_type": "markdown",
   "metadata": {},
   "source": [
    "Obtain the time in HH:MM:SS"
   ]
  },
  {
   "cell_type": "code",
   "execution_count": 25,
   "metadata": {},
   "outputs": [
    {
     "name": "stdout",
     "output_type": "stream",
     "text": [
      "06:20:33\n"
     ]
    }
   ],
   "source": [
    "print(today.strftime(\"%X\"))"
   ]
  },
  {
   "cell_type": "markdown",
   "metadata": {},
   "source": [
    "Obtain the hour with 12 hours time"
   ]
  },
  {
   "cell_type": "code",
   "execution_count": 26,
   "metadata": {},
   "outputs": [
    {
     "name": "stdout",
     "output_type": "stream",
     "text": [
      "06\n"
     ]
    }
   ],
   "source": [
    "print(today.strftime(\"%I\"))"
   ]
  },
  {
   "cell_type": "markdown",
   "metadata": {},
   "source": [
    "Obtain AM or PM"
   ]
  },
  {
   "cell_type": "code",
   "execution_count": 27,
   "metadata": {},
   "outputs": [
    {
     "name": "stdout",
     "output_type": "stream",
     "text": [
      "AM\n"
     ]
    }
   ],
   "source": [
    "print(today.strftime(\"%p\"))"
   ]
  },
  {
   "cell_type": "markdown",
   "metadata": {},
   "source": [
    "`%c` - local date and time, `%x`-local's date, `%X`- local's time"
   ]
  },
  {
   "cell_type": "code",
   "execution_count": 28,
   "metadata": {},
   "outputs": [
    {
     "name": "stdout",
     "output_type": "stream",
     "text": [
      "Date and Time = Mon Nov  4 06:20:33 2024\n",
      "Date =          11/04/24\n",
      "Time =          06:20:33\n"
     ]
    }
   ],
   "source": [
    "print(f'Date and Time = {today.strftime(\"%c\")}')\n",
    "print(f'Date =          {today.strftime(\"%x\")}')\n",
    "print(f'Time =          {today.strftime(\"%X\")}')"
   ]
  },
  {
   "cell_type": "markdown",
   "metadata": {},
   "source": [
    "`%I/%H` - 12/24 Hour, `%M` - minute, `%S` - second, `%p` - local's AM/PM"
   ]
  },
  {
   "cell_type": "code",
   "execution_count": 29,
   "metadata": {},
   "outputs": [
    {
     "name": "stdout",
     "output_type": "stream",
     "text": [
      "Time = 06:20:33 AM\n",
      "Hour:Minutes = 06:20\n"
     ]
    }
   ],
   "source": [
    "print(f\"Time = {today.strftime('%I:%M:%S %p')}\") # 12-Hour:Minute:Second:AM\n",
    "print(f\"Hour:Minutes = {today.strftime('%H:%M')}\") # 24-Hour:Minute"
   ]
  },
  {
   "cell_type": "markdown",
   "metadata": {},
   "source": [
    "**Parsing**\n",
    "\n",
    "If the format of a string is known, it can be easily parsed to a `datetime` object using `strptime`."
   ]
  },
  {
   "cell_type": "code",
   "execution_count": 30,
   "metadata": {},
   "outputs": [
    {
     "name": "stdout",
     "output_type": "stream",
     "text": [
      "Date:         2020-09-19\n",
      "Time:         14:42:00\n",
      "Date-time:    2020-09-19 14:42:00\n"
     ]
    }
   ],
   "source": [
    "datetime_str = 'Sep 19 2020 2:42PM'\n",
    "datetime_fmt = '%b %d %Y %I:%M%p'\n",
    "datetime_obj = datetime.datetime.strptime(datetime_str, datetime_fmt)\n",
    "\n",
    "print('Date:        ', datetime_obj.date())\n",
    "print('Time:        ', datetime_obj.time())\n",
    "print('Date-time:   ', datetime_obj)"
   ]
  },
  {
   "cell_type": "code",
   "execution_count": 31,
   "metadata": {},
   "outputs": [
    {
     "name": "stdout",
     "output_type": "stream",
     "text": [
      "String date:  Sep 19 2020 02:42PM\n"
     ]
    }
   ],
   "source": [
    "print('String date: ', datetime_obj.strftime(datetime_fmt))"
   ]
  },
  {
   "cell_type": "markdown",
   "metadata": {},
   "source": [
    "Examples of commonly used time formats and the tokens used for parsing:\n",
    "\n",
    "```python\n",
    "\"Sep 15 2020 at 2:42PM\"        -> \"%b %d %Y at %I:%M%p\"\n",
    "\"September 15, 2020, 14:42:15\" -> \"%B %d, %Y, %H:%M:%S\"\n",
    "\"Tue,09/15/20,2:42PM\"          -> \"%a,%d/%m/%y,%I:%M%p\"\n",
    "\"Tue, 15 September, 2020\"      -> \"%a, %d %B, %Y\"\n",
    "\"2020-09-15T14:42:15Z\"         -> \"%Y-%m-%dT%H:%M:%SZ\"\n",
    "```"
   ]
  },
  {
   "cell_type": "markdown",
   "metadata": {},
   "source": [
    "---\n",
    "\n",
    "### <font color=\"blue\">Breakout 4</font>\n",
    "\n",
    "Write a function (named `number_days_between`) that:\n",
    "\n",
    "- Takes two arguments that are 8-digit integers of the form YYYYMMDD (actually a date), and\n",
    "- Returns the number of days between the two dates.\n",
    "\n",
    "For instance:\n",
    "\n",
    "```python\n",
    "   number_days_between(20200617, 20200619) = 2\n",
    "   number_days_between(20200619, 20100219) = 3773\n",
    "```\n",
    "\n",
    "<p>\n",
    "\n",
    "<details><summary><b>Click here to access the solution</b></summary>\n",
    "<p>\n",
    "\n",
    "\n",
    "```python\n",
    "def number_days_between(date1, date2):\n",
    "    \"\"\"\n",
    "    Determine the number of days between two dates\n",
    "    represented as 8-digit integers (YYYYMMDD).\n",
    "    \n",
    "    Paramters\n",
    "    ---------\n",
    "date = datetime.date.today()\n",
    "print(date)\n",
    "new_date = date + datetime.timedelta(weeks=5)\n",
    "print(new_date)\n",
    "```\n",
    "\n",
    "</p>\n",
    "</details>\n",
    "    \n",
    "---"
   ]
  },
  {
   "cell_type": "code",
   "execution_count": 45,
   "metadata": {},
   "outputs": [
    {
     "name": "stdout",
     "output_type": "stream",
     "text": [
      "2024-11-04\n",
      "2024-12-09\n"
     ]
    }
   ],
   "source": [
    "date = datetime.date.today()\n",
    "print(date)\n",
    "new_date = date + datetime.timedelta(weeks=5)\n",
    "print(new_date)"
   ]
  },
  {
   "cell_type": "markdown",
   "metadata": {},
   "source": [
    "---\n",
    "\n",
    "### <font color=\"blue\">Breakout 5</font>\n",
    "\n",
    "On July 16, 1969, the huge, 363-feet tall Saturn V rocket launches on the Apollo 11 mission from Pad A, Launch Complex 39, Kennedy Space Center, at 9:32 a.m. EDT. Write a Python program the computes (**from now**) the number of:\n",
    "\n",
    "- Years\n",
    "- Months\n",
    "- Days\n",
    "- Hours\n",
    "- Minutes\n",
    "- Seconds\n",
    "\n",
    "since the launch.\n",
    "\n",
    "Hint: [Check this website](https://stackoverflow.com/questions/1345827/how-do-i-find-the-time-difference-between-two-datetime-objects-in-python)\n",
    "<p>\n",
    "\n",
    "<details><summary><b>Click here to access the solution</b></summary>\n",
    "<p>\n",
    "\n",
    "\n",
    "```python\n",
    "current_date = datetime.datetime.now()\n",
    "launch_date = datetime.datetime(1969, 7, 16, 9, 32)\n",
    "duration = current_date - launch_date\n",
    "\n",
    "duration_in_s = duration.total_seconds()\n",
    "years = divmod(duration_in_s, 31536000)[0]  # Seconds in a year=365*24*60*60 = 31536000\n",
    "days  = divmod(duration_in_s, 86400)[0]     # Seconds in a day = 86400\n",
    "hours = divmod(duration_in_s, 3600)[0]      # Seconds in an hour = 3600\n",
    "minutes = divmod(duration_in_s, 60)[0]      # Seconds in a minute = 60\n",
    "\n",
    "print(f\"Number of Years:   {years}\")\n",
    "print(f\"Number of Weeks:   {days/7}\")\n",
    "print(f\"Number of Days:    {days}\")\n",
    "print(f\"Number of Hours:   {hours}\")\n",
    "print(f\"Number of Minutes: {minutes}\")\n",
    "print(f\"Number of Seconds: {duration_in_s}\")\n",
    "```\n",
    "\n",
    "</p>\n",
    "</details>\n",
    "    \n",
    "---"
   ]
  },
  {
   "cell_type": "code",
   "execution_count": 46,
   "metadata": {},
   "outputs": [
    {
     "name": "stdout",
     "output_type": "stream",
     "text": [
      "Number of Years:   55.0\n",
      "Number of Weeks:   2885.5714285714284\n",
      "Number of Days:    20199.0\n",
      "Number of Hours:   484796.0\n",
      "Number of Minutes: 29087813.0\n",
      "Number of Seconds: 1745268831.35278\n"
     ]
    }
   ],
   "source": [
    "current_date = datetime.datetime.now()\n",
    "launch_date = datetime.datetime(1969, 7, 16, 9, 32)\n",
    "duration = current_date - launch_date\n",
    "\n",
    "duration_in_s = duration.total_seconds()\n",
    "years = divmod(duration_in_s, 31536000)[0]  # Seconds in a year=365*24*60*60 = 31536000\n",
    "days  = divmod(duration_in_s, 86400)[0]     # Seconds in a day = 86400\n",
    "hours = divmod(duration_in_s, 3600)[0]      # Seconds in an hour = 3600\n",
    "minutes = divmod(duration_in_s, 60)[0]      # Seconds in a minute = 60\n",
    "\n",
    "print(f\"Number of Years:   {years}\")\n",
    "print(f\"Number of Weeks:   {days/7}\")\n",
    "print(f\"Number of Days:    {days}\")\n",
    "print(f\"Number of Hours:   {hours}\")\n",
    "print(f\"Number of Minutes: {minutes}\")\n",
    "print(f\"Number of Seconds: {duration_in_s}\")"
   ]
  },
  {
   "cell_type": "markdown",
   "metadata": {},
   "source": [
    "# Here endeth my lecture \n",
    "but if you want more\n",
    "\n",
    "## <font color=\"red\">Bonus Breakout</font>\n",
    "\n",
    "- We want to write a function that increments a date by adding a number of years, a number of months and a number of days.\n",
    "- We break the task into small ones by writing three functions that add the days, the months and the years, respectively. We then use the functions to accomplish our task."
   ]
  },
  {
   "cell_type": "markdown",
   "metadata": {},
   "source": [
    "### <font color=\"blue\">Problem 1</font>\n",
    "\n",
    "Write a function (`add_years`) that adds `num_years` to a date object.\n",
    "\n",
    "<details><summary><b>Click here to access the solution</b></summary>\n",
    "<p>\n",
    "\n",
    "\n",
    "```python\n",
    "def add_years (my_date, num_years):\n",
    "    return my_date.replace(year=my_date.year + num_years)\n",
    "```\n",
    "\n",
    "</p>\n",
    "</details>"
   ]
  },
  {
   "cell_type": "markdown",
   "metadata": {},
   "source": [
    "### <font color=\"blue\">Problem 2</font>\n",
    "\n",
    "Write a function (`add_months`) that adds `num_months` to a date object.\n",
    "\n",
    "<details><summary><b>Click here to access the solution</b></summary>\n",
    "<p>\n",
    "\n",
    "\n",
    "```python\n",
    "def add_Months(my_date, num_months):\n",
    "    m = my_date.month + num_months\n",
    "    year  = m // 12\n",
    "    month = m % 12\n",
    "    if month == 0:\n",
    "       month = 12\n",
    "       year -= 1\n",
    "    try:\n",
    "        new_date = datetime.date(my_date.year+year, month, my_date.day)\n",
    "    except ValueError:\n",
    "        import calendar\n",
    "        # determine the total number of days in a new month\n",
    "        m1, d1 = calendar.monthrange(my_date.year+year, month)\n",
    "        new_date = datetime.date(my_date.year+year, month, d1)\n",
    "    return new_date\n",
    "```\n",
    "\n",
    "</p>\n",
    "</details>"
   ]
  },
  {
   "cell_type": "markdown",
   "metadata": {},
   "source": [
    "### <font color=\"blue\">Problem 3</font>\n",
    "\n",
    "Write a function (`add_days`) that adds `num_days` to a date object.\n",
    "\n",
    "<details><summary><b>Click here to access the solution</b></summary>\n",
    "<p>\n",
    "\n",
    "\n",
    "```python\n",
    "def add_days (my_date, num_days):\n",
    "    return my_date + datetime.timedelta(days=num_days)\n",
    "```\n",
    "\n",
    "</p>\n",
    "</details>"
   ]
  },
  {
   "cell_type": "markdown",
   "metadata": {},
   "source": [
    "### <font color=\"blue\">Problem 4</font>\n",
    "\n",
    "Write a function (`increment_date`) that:\n",
    "\n",
    "- Has as arguments `ref_date` (in the format YYYYMMDD), `num_years`, `num_months` and `num_days`. \n",
    "- Adds `num_years`, `num_months` and `num_days` to `ref_date`.\n",
    "- Returns a new date in the format YYYYMMDD.\n",
    "\n",
    "Note that `num_years`, `num_months` and `num_days` can be either positive or negative numbers.\n",
    "\n",
    "<details><summary><b>Click here to access the solution</b></summary>\n",
    "<p>\n",
    "\n",
    "\n",
    "```python\n",
    "def increment_date(ref_date, num_years=0, num_months=0, num_days=0):\n",
    "    # Extract the year, the month and day from ref_date\n",
    "    y = ref_date // 10000\n",
    "    m = (ref_date % 10000) // 100\n",
    "    d = ref_date % 100\n",
    "    \n",
    "    # Determine the current date object\n",
    "    cur_date = datetime.date(y, m, d)\n",
    "    \n",
    "    # Increment the date\n",
    "    cur_date = add_years(cur_date, num_years)\n",
    "    cur_date = add_months(cur_date, num_months)\n",
    "    cur_date = add_days(cur_date, num_days)\n",
    "    \n",
    "    # Extract the new year, month and day\n",
    "    curY = cur_date.year\n",
    "    curM = cur_date.month\n",
    "    curD = cur_date.day\n",
    "    \n",
    "    # Compute the new date in the format YYYYMMDD\n",
    "    new_date = 10000*curY + 100*curM + curD\n",
    "    \n",
    "    return new_date\n",
    "\n",
    "print(increment_date(20001231, num_months=-15, num_days=7))\n",
    "```\n",
    "\n",
    "</p>\n",
    "</details>"
   ]
  },
  {
   "cell_type": "markdown",
   "metadata": {},
   "source": [
    "## <font color=\"purple\">Going Deeper: Handling timezone</font>\n",
    "\n",
    "- We can use the `pytz` module that allows accurate and cross platform timezone calculations.\n",
    "- It provides implementations of **tzinfo** class that can be used to create timezone aware datetime instances."
   ]
  },
  {
   "cell_type": "code",
   "execution_count": 32,
   "metadata": {},
   "outputs": [
    {
     "name": "stdout",
     "output_type": "stream",
     "text": [
      "['AmbiguousTimeError', 'BaseTzInfo', 'FixedOffset', 'HOUR', 'InvalidTimeError', 'LazyDict', 'LazyList', 'LazySet', 'NonExistentTimeError', 'OLSEN_VERSION', 'OLSON_VERSION', 'UTC', 'UnknownTimeZoneError', 'VERSION', 'ZERO', '_CountryNameDict', '_CountryTimezoneDict', '_FixedOffset', '_UTC', '__all__', '__builtins__', '__cached__', '__doc__', '__file__', '__loader__', '__name__', '__package__', '__path__', '__spec__', '__version__', '_all_timezones_lower_to_standard', '_all_timezones_unchecked', '_case_insensitive_zone_lookup', '_p', '_test', '_tzinfo_cache', '_unmunge_zone', 'all_timezones', 'all_timezones_set', 'ascii', 'build_tzinfo', 'common_timezones', 'common_timezones_set', 'country_names', 'country_timezones', 'datetime', 'exceptions', 'lazy', 'open_resource', 'os', 'resource_exists', 'sys', 'timezone', 'tzfile', 'tzinfo', 'unicode', 'unpickler', 'utc']\n"
     ]
    }
   ],
   "source": [
    "import pytz\n",
    "print(dir(pytz))"
   ]
  },
  {
   "cell_type": "markdown",
   "metadata": {},
   "source": [
    "Commonly Used Time Zones:"
   ]
  },
  {
   "cell_type": "code",
   "execution_count": 33,
   "metadata": {},
   "outputs": [
    {
     "name": "stdout",
     "output_type": "stream",
     "text": [
      "LazySet({'Asia/Ashgabat', 'America/Argentina/Mendoza', 'America/Metlakatla', 'Asia/Khandyga', 'America/Campo_Grande', 'America/Guyana', 'Pacific/Gambier', 'Africa/Khartoum', 'Europe/Ulyanovsk', 'Africa/Malabo', 'America/Recife', 'America/Cayenne', 'Europe/Minsk', 'America/Monterrey', 'Atlantic/St_Helena', 'Africa/Maseru', 'Atlantic/Canary', 'Europe/Isle_of_Man', 'America/St_Vincent', 'Asia/Bangkok', 'America/Rankin_Inlet', 'Africa/Bissau', 'Australia/Perth', 'America/Sitka', 'Asia/Sakhalin', 'Europe/Zagreb', 'Asia/Ust-Nera', 'Europe/Dublin', 'US/Eastern', 'Europe/Belgrade', 'Europe/Guernsey', 'Africa/El_Aaiun', 'America/Dawson', 'Antarctica/Macquarie', 'Asia/Kabul', 'Africa/Nairobi', 'America/Menominee', 'Europe/Helsinki', 'Africa/Kampala', 'Africa/Nouakchott', 'Canada/Eastern', 'Antarctica/Vostok', 'Asia/Dubai', 'Pacific/Guadalcanal', 'Africa/Bamako', 'Asia/Qostanay', 'Europe/Malta', 'Africa/Maputo', 'Pacific/Majuro', 'America/Bahia_Banderas', 'America/Nassau', 'Asia/Qatar', 'Asia/Yakutsk', 'Asia/Nicosia', 'Europe/Rome', 'Europe/Moscow', 'Europe/Vienna', 'America/Belem', 'Europe/Paris', 'America/Indiana/Petersburg', 'Africa/Monrovia', 'Asia/Manila', 'Europe/Ljubljana', 'US/Arizona', 'Asia/Yekaterinburg', 'Europe/Chisinau', 'Canada/Atlantic', 'Africa/Douala', 'Europe/Amsterdam', 'Africa/Tripoli', 'Europe/Kaliningrad', 'Asia/Yerevan', 'America/Havana', 'Pacific/Chuuk', 'Antarctica/Davis', 'America/Argentina/San_Luis', 'America/Vancouver', 'Africa/Lagos', 'America/Belize', 'Asia/Amman', 'Asia/Novokuznetsk', 'Africa/Mbabane', 'Pacific/Galapagos', 'America/Kralendijk', 'America/Lower_Princes', 'America/Whitehorse', 'Asia/Aqtau', 'Asia/Tbilisi', 'Europe/Berlin', 'America/Argentina/La_Rioja', 'America/Iqaluit', 'America/Sao_Paulo', 'Atlantic/Faroe', 'Asia/Colombo', 'Europe/Volgograd', 'America/Anguilla', 'Indian/Antananarivo', 'Europe/Athens', 'Indian/Mauritius', 'America/Guayaquil', 'Australia/Lindeman', 'Europe/Mariehamn', 'Europe/Monaco', 'Africa/Addis_Ababa', 'Indian/Kerguelen', 'America/Jamaica', 'Atlantic/Stanley', 'Asia/Famagusta', 'Africa/Blantyre', 'Europe/Sofia', 'Asia/Riyadh', 'America/Argentina/Buenos_Aires', 'America/Argentina/Rio_Gallegos', 'Pacific/Noumea', 'Europe/Vilnius', 'Pacific/Pago_Pago', 'America/St_Johns', 'America/St_Lucia', 'Asia/Kuwait', 'Asia/Choibalsan', 'Canada/Newfoundland', 'Pacific/Guam', 'America/Punta_Arenas', 'US/Central', 'America/Fortaleza', 'Africa/Bangui', 'US/Alaska', 'Pacific/Niue', 'Asia/Damascus', 'America/Blanc-Sablon', 'America/Toronto', 'Europe/Stockholm', 'Antarctica/Rothera', 'America/St_Kitts', 'Pacific/Tarawa', 'Africa/Cairo', 'America/Indiana/Indianapolis', 'Asia/Oral', 'Asia/Dushanbe', 'Asia/Tashkent', 'Pacific/Midway', 'Asia/Makassar', 'America/Denver', 'Asia/Pontianak', 'Africa/Juba', 'Pacific/Rarotonga', 'Pacific/Funafuti', 'Africa/Lusaka', 'America/Panama', 'Asia/Yangon', 'Africa/Algiers', 'Asia/Beirut', 'America/Maceio', 'Europe/Warsaw', 'Europe/Brussels', 'Asia/Gaza', 'Africa/Brazzaville', 'America/Hermosillo', 'America/Halifax', 'Africa/Niamey', 'America/St_Thomas', 'Pacific/Kwajalein', 'Asia/Aqtobe', 'America/Glace_Bay', 'America/Port_of_Spain', 'Asia/Qyzylorda', 'America/El_Salvador', 'Europe/Simferopol', 'Africa/Accra', 'Europe/Gibraltar', 'Asia/Muscat', 'Europe/Tallinn', 'America/Argentina/Ushuaia', 'Australia/Sydney', 'Pacific/Nauru', 'Asia/Kuala_Lumpur', 'America/Cambridge_Bay', 'America/Indiana/Knox', 'America/Chihuahua', 'UTC', 'Antarctica/DumontDUrville', 'America/Kentucky/Louisville', 'Asia/Anadyr', 'Pacific/Saipan', 'America/Indiana/Vincennes', 'America/Nuuk', 'America/La_Paz', 'America/Detroit', 'Australia/Brisbane', 'Asia/Bahrain', 'Asia/Aden', 'America/Curacao', 'Asia/Jakarta', 'Europe/Jersey', 'America/Guatemala', 'Europe/Zurich', 'Pacific/Wake', 'Pacific/Auckland', 'Asia/Kolkata', 'Pacific/Fiji', 'Asia/Urumqi', 'Asia/Brunei', 'Pacific/Tahiti', 'Asia/Hebron', 'Indian/Christmas', 'Africa/Ouagadougou', 'Pacific/Chatham', 'America/Inuvik', 'Europe/Saratov', 'Africa/Gaborone', 'America/Eirunepe', 'Indian/Comoro', 'Africa/Lubumbashi', 'America/Indiana/Tell_City', 'Antarctica/Casey', 'America/Yakutat', 'GMT', 'Pacific/Pitcairn', 'America/Tegucigalpa', 'America/Mexico_City', 'Asia/Baghdad', 'Asia/Kamchatka', 'America/Marigot', 'Atlantic/Azores', 'Africa/Luanda', 'America/Ojinaga', 'Australia/Eucla', 'Pacific/Port_Moresby', 'Asia/Seoul', 'America/Creston', 'Antarctica/Syowa', 'America/Winnipeg', 'America/Puerto_Rico', 'Africa/Ndjamena', 'Pacific/Kanton', 'Atlantic/Bermuda', 'Europe/San_Marino', 'America/Swift_Current', 'Indian/Mayotte', 'America/Los_Angeles', 'Antarctica/McMurdo', 'Europe/Busingen', 'America/Dawson_Creek', 'Australia/Adelaide', 'Europe/Tirane', 'Europe/Riga', 'America/Barbados', 'Asia/Ho_Chi_Minh', 'America/Moncton', 'Australia/Melbourne', 'Pacific/Easter', 'Pacific/Honolulu', 'Asia/Novosibirsk', 'America/Indiana/Winamac', 'America/Anchorage', 'Africa/Tunis', 'Africa/Harare', 'America/Santarem', 'America/Grenada', 'Asia/Chita', 'America/Boise', 'Asia/Irkutsk', 'Canada/Mountain', 'America/Merida', 'Africa/Bujumbura', 'America/Atikokan', 'Asia/Krasnoyarsk', 'Europe/Podgorica', 'Asia/Vladivostok', 'America/Phoenix', 'Canada/Pacific', 'Pacific/Efate', 'America/Miquelon', 'Asia/Pyongyang', 'America/Argentina/San_Juan', 'Pacific/Norfolk', 'Europe/Oslo', 'Europe/Copenhagen', 'Africa/Djibouti', 'Europe/Bratislava', 'America/Paramaribo', 'Asia/Thimphu', 'America/Boa_Vista', 'America/New_York', 'Africa/Kigali', 'America/North_Dakota/New_Salem', 'Asia/Shanghai', 'America/Danmarkshavn', 'Africa/Porto-Novo', 'America/Asuncion', 'Africa/Banjul', 'America/Thule', 'Europe/Vatican', 'Africa/Casablanca', 'Asia/Vientiane', 'Asia/Tokyo', 'America/Costa_Rica', 'America/Guadeloupe', 'Europe/Sarajevo', 'Indian/Chagos', 'Pacific/Marquesas', 'America/Cuiaba', 'America/Grand_Turk', 'Europe/Samara', 'America/Argentina/Catamarca', 'Africa/Dakar', 'Asia/Srednekolymsk', 'America/Bogota', 'America/Goose_Bay', 'America/North_Dakota/Beulah', 'Asia/Kuching', 'Pacific/Tongatapu', 'America/Aruba', 'Asia/Karachi', 'Pacific/Kiritimati', 'Africa/Libreville', 'America/Kentucky/Monticello', 'Europe/Andorra', 'America/Araguaina', 'Asia/Jerusalem', 'America/Matamoros', 'America/Martinique', 'Europe/Madrid', 'Europe/London', 'Atlantic/Madeira', 'Asia/Tehran', 'Asia/Kathmandu', 'Asia/Taipei', 'America/Mazatlan', 'US/Hawaii', 'Asia/Magadan', 'Asia/Dhaka', 'America/Argentina/Jujuy', 'Africa/Freetown', 'Africa/Abidjan', 'Africa/Lome', 'America/Montevideo', 'Europe/Kirov', 'Asia/Hovd', 'Asia/Ulaanbaatar', 'US/Pacific', 'Asia/Macau', 'America/St_Barthelemy', 'America/Caracas', 'Asia/Dili', 'Atlantic/South_Georgia', 'America/Port-au-Prince', 'America/Fort_Nelson', 'America/Santiago', 'Indian/Cocos', 'Antarctica/Mawson', 'US/Mountain', 'America/Adak', 'Asia/Jayapura', 'Arctic/Longyearbyen', 'America/Argentina/Tucuman', 'Africa/Sao_Tome', 'Africa/Dar_es_Salaam', 'America/Rio_Branco', 'Indian/Mahe', 'Europe/Bucharest', 'America/Nome', 'Africa/Conakry', 'Asia/Singapore', 'Indian/Reunion', 'Australia/Darwin', 'Asia/Barnaul', 'Europe/Prague', 'Australia/Lord_Howe', 'America/Porto_Velho', 'Europe/Vaduz', 'Europe/Astrakhan', 'Asia/Phnom_Penh', 'America/Dominica', 'America/Argentina/Cordoba', 'Australia/Broken_Hill', 'Asia/Hong_Kong', 'Europe/Skopje', 'Asia/Atyrau', 'Pacific/Kosrae', 'Asia/Samarkand', 'Africa/Kinshasa', 'America/Argentina/Salta', 'America/North_Dakota/Center', 'Pacific/Apia', 'America/Indiana/Vevay', 'America/Regina', 'America/Cancun', 'America/Edmonton', 'Asia/Almaty', 'Antarctica/Palmer', 'Canada/Central', 'America/Antigua', 'Asia/Baku', 'America/Chicago', 'America/Bahia', 'Africa/Asmara', 'Atlantic/Reykjavik', 'Africa/Windhoek', 'America/Ciudad_Juarez', 'America/Montserrat', 'Atlantic/Cape_Verde', 'Indian/Maldives', 'America/Resolute', 'America/Noronha', 'Europe/Budapest', 'Antarctica/Troll', 'America/Scoresbysund', 'Asia/Omsk', 'Africa/Johannesburg', 'Europe/Kyiv', 'Africa/Ceuta', 'Africa/Mogadishu', 'America/Indiana/Marengo', 'Pacific/Wallis', 'Australia/Hobart', 'Asia/Bishkek', 'America/Cayman', 'America/Tortola', 'America/Tijuana', 'Asia/Tomsk', 'Europe/Lisbon', 'Europe/Istanbul', 'Pacific/Palau', 'Pacific/Fakaofo', 'Pacific/Pohnpei', 'America/Santo_Domingo', 'America/Juneau', 'Pacific/Bougainville', 'America/Lima', 'America/Managua', 'America/Manaus', 'Europe/Luxembourg'})\n"
     ]
    }
   ],
   "source": [
    "print(pytz.common_timezones_set)"
   ]
  },
  {
   "cell_type": "markdown",
   "metadata": {},
   "source": [
    "Country Names:"
   ]
  },
  {
   "cell_type": "code",
   "execution_count": 34,
   "metadata": {},
   "outputs": [
    {
     "name": "stdout",
     "output_type": "stream",
     "text": [
      "AD = Andorra, AE = United Arab Emirates, AF = Afghanistan, AG = Antigua & Barbuda, AI = Anguilla, AL = Albania, AM = Armenia, AO = Angola, AQ = Antarctica, AR = Argentina, AS = Samoa (American), AT = Austria, AU = Australia, AW = Aruba, AX = Åland Islands, AZ = Azerbaijan, BA = Bosnia & Herzegovina, BB = Barbados, BD = Bangladesh, BE = Belgium, BF = Burkina Faso, BG = Bulgaria, BH = Bahrain, BI = Burundi, BJ = Benin, BL = St Barthelemy, BM = Bermuda, BN = Brunei, BO = Bolivia, BQ = Caribbean NL, BR = Brazil, BS = Bahamas, BT = Bhutan, BV = Bouvet Island, BW = Botswana, BY = Belarus, BZ = Belize, CA = Canada, CC = Cocos (Keeling) Islands, CD = Congo (Dem. Rep.), CF = Central African Rep., CG = Congo (Rep.), CH = Switzerland, CI = Côte d'Ivoire, CK = Cook Islands, CL = Chile, CM = Cameroon, CN = China, CO = Colombia, CR = Costa Rica, CU = Cuba, CV = Cape Verde, CW = Curaçao, CX = Christmas Island, CY = Cyprus, CZ = Czech Republic, DE = Germany, DJ = Djibouti, DK = Denmark, DM = Dominica, DO = Dominican Republic, DZ = Algeria, EC = Ecuador, EE = Estonia, EG = Egypt, EH = Western Sahara, ER = Eritrea, ES = Spain, ET = Ethiopia, FI = Finland, FJ = Fiji, FK = Falkland Islands, FM = Micronesia, FO = Faroe Islands, FR = France, GA = Gabon, GB = Britain (UK), GD = Grenada, GE = Georgia, GF = French Guiana, GG = Guernsey, GH = Ghana, GI = Gibraltar, GL = Greenland, GM = Gambia, GN = Guinea, GP = Guadeloupe, GQ = Equatorial Guinea, GR = Greece, GS = South Georgia & the South Sandwich Islands, GT = Guatemala, GU = Guam, GW = Guinea-Bissau, GY = Guyana, HK = Hong Kong, HM = Heard Island & McDonald Islands, HN = Honduras, HR = Croatia, HT = Haiti, HU = Hungary, ID = Indonesia, IE = Ireland, IL = Israel, IM = Isle of Man, IN = India, IO = British Indian Ocean Territory, IQ = Iraq, IR = Iran, IS = Iceland, IT = Italy, JE = Jersey, JM = Jamaica, JO = Jordan, JP = Japan, KE = Kenya, KG = Kyrgyzstan, KH = Cambodia, KI = Kiribati, KM = Comoros, KN = St Kitts & Nevis, KP = Korea (North), KR = Korea (South), KW = Kuwait, KY = Cayman Islands, KZ = Kazakhstan, LA = Laos, LB = Lebanon, LC = St Lucia, LI = Liechtenstein, LK = Sri Lanka, LR = Liberia, LS = Lesotho, LT = Lithuania, LU = Luxembourg, LV = Latvia, LY = Libya, MA = Morocco, MC = Monaco, MD = Moldova, ME = Montenegro, MF = St Martin (French), MG = Madagascar, MH = Marshall Islands, MK = North Macedonia, ML = Mali, MM = Myanmar (Burma), MN = Mongolia, MO = Macau, MP = Northern Mariana Islands, MQ = Martinique, MR = Mauritania, MS = Montserrat, MT = Malta, MU = Mauritius, MV = Maldives, MW = Malawi, MX = Mexico, MY = Malaysia, MZ = Mozambique, NA = Namibia, NC = New Caledonia, NE = Niger, NF = Norfolk Island, NG = Nigeria, NI = Nicaragua, NL = Netherlands, NO = Norway, NP = Nepal, NR = Nauru, NU = Niue, NZ = New Zealand, OM = Oman, PA = Panama, PE = Peru, PF = French Polynesia, PG = Papua New Guinea, PH = Philippines, PK = Pakistan, PL = Poland, PM = St Pierre & Miquelon, PN = Pitcairn, PR = Puerto Rico, PS = Palestine, PT = Portugal, PW = Palau, PY = Paraguay, QA = Qatar, RE = Réunion, RO = Romania, RS = Serbia, RU = Russia, RW = Rwanda, SA = Saudi Arabia, SB = Solomon Islands, SC = Seychelles, SD = Sudan, SE = Sweden, SG = Singapore, SH = St Helena, SI = Slovenia, SJ = Svalbard & Jan Mayen, SK = Slovakia, SL = Sierra Leone, SM = San Marino, SN = Senegal, SO = Somalia, SR = Suriname, SS = South Sudan, ST = Sao Tome & Principe, SV = El Salvador, SX = St Maarten (Dutch), SY = Syria, SZ = Eswatini (Swaziland), TC = Turks & Caicos Is, TD = Chad, TF = French S. Terr., TG = Togo, TH = Thailand, TJ = Tajikistan, TK = Tokelau, TL = East Timor, TM = Turkmenistan, TN = Tunisia, TO = Tonga, TR = Turkey, TT = Trinidad & Tobago, TV = Tuvalu, TW = Taiwan, TZ = Tanzania, UA = Ukraine, UG = Uganda, UM = US minor outlying islands, US = United States, UY = Uruguay, UZ = Uzbekistan, VA = Vatican City, VC = St Vincent, VE = Venezuela, VG = Virgin Islands (UK), VI = Virgin Islands (US), VN = Vietnam, VU = Vanuatu, WF = Wallis & Futuna, WS = Samoa (western), YE = Yemen, YT = Mayotte, ZA = South Africa, ZM = Zambia, ZW = Zimbabwe, "
     ]
    }
   ],
   "source": [
    "for key, val in pytz.country_names.items():\n",
    "    print(key, '=', val, end=', ')"
   ]
  },
  {
   "cell_type": "markdown",
   "metadata": {},
   "source": [
    "Time zones in each country:"
   ]
  },
  {
   "cell_type": "code",
   "execution_count": 35,
   "metadata": {},
   "outputs": [
    {
     "name": "stdout",
     "output_type": "stream",
     "text": [
      "country_timezones =\n",
      "AD = ['Europe/Andorra'], AE = ['Asia/Dubai'], AF = ['Asia/Kabul'], AG = ['America/Antigua'], AI = ['America/Anguilla'], AL = ['Europe/Tirane'], AM = ['Asia/Yerevan'], AO = ['Africa/Luanda'], AQ = ['Antarctica/McMurdo', 'Antarctica/Casey', 'Antarctica/Davis', 'Antarctica/DumontDUrville', 'Antarctica/Mawson', 'Antarctica/Palmer', 'Antarctica/Rothera', 'Antarctica/Syowa', 'Antarctica/Troll', 'Antarctica/Vostok'], AR = ['America/Argentina/Buenos_Aires', 'America/Argentina/Cordoba', 'America/Argentina/Salta', 'America/Argentina/Jujuy', 'America/Argentina/Tucuman', 'America/Argentina/Catamarca', 'America/Argentina/La_Rioja', 'America/Argentina/San_Juan', 'America/Argentina/Mendoza', 'America/Argentina/San_Luis', 'America/Argentina/Rio_Gallegos', 'America/Argentina/Ushuaia'], AS = ['Pacific/Pago_Pago'], AT = ['Europe/Vienna'], AU = ['Australia/Lord_Howe', 'Antarctica/Macquarie', 'Australia/Hobart', 'Australia/Melbourne', 'Australia/Sydney', 'Australia/Broken_Hill', 'Australia/Brisbane', 'Australia/Lindeman', 'Australia/Adelaide', 'Australia/Darwin', 'Australia/Perth', 'Australia/Eucla'], AW = ['America/Aruba'], AX = ['Europe/Mariehamn'], AZ = ['Asia/Baku'], BA = ['Europe/Sarajevo'], BB = ['America/Barbados'], BD = ['Asia/Dhaka'], BE = ['Europe/Brussels'], BF = ['Africa/Ouagadougou'], BG = ['Europe/Sofia'], BH = ['Asia/Bahrain'], BI = ['Africa/Bujumbura'], BJ = ['Africa/Porto-Novo'], BL = ['America/St_Barthelemy'], BM = ['Atlantic/Bermuda'], BN = ['Asia/Brunei'], BO = ['America/La_Paz'], BQ = ['America/Kralendijk'], BR = ['America/Noronha', 'America/Belem', 'America/Fortaleza', 'America/Recife', 'America/Araguaina', 'America/Maceio', 'America/Bahia', 'America/Sao_Paulo', 'America/Campo_Grande', 'America/Cuiaba', 'America/Santarem', 'America/Porto_Velho', 'America/Boa_Vista', 'America/Manaus', 'America/Eirunepe', 'America/Rio_Branco'], BS = ['America/Nassau'], BT = ['Asia/Thimphu'], BW = ['Africa/Gaborone'], BY = ['Europe/Minsk'], BZ = ['America/Belize'], CA = ['America/St_Johns', 'America/Halifax', 'America/Glace_Bay', 'America/Moncton', 'America/Goose_Bay', 'America/Blanc-Sablon', 'America/Toronto', 'America/Iqaluit', 'America/Atikokan', 'America/Winnipeg', 'America/Resolute', 'America/Rankin_Inlet', 'America/Regina', 'America/Swift_Current', 'America/Edmonton', 'America/Cambridge_Bay', 'America/Inuvik', 'America/Creston', 'America/Dawson_Creek', 'America/Fort_Nelson', 'America/Whitehorse', 'America/Dawson', 'America/Vancouver'], CC = ['Indian/Cocos'], CD = ['Africa/Kinshasa', 'Africa/Lubumbashi'], CF = ['Africa/Bangui'], CG = ['Africa/Brazzaville'], CH = ['Europe/Zurich'], CI = ['Africa/Abidjan'], CK = ['Pacific/Rarotonga'], CL = ['America/Santiago', 'America/Punta_Arenas', 'Pacific/Easter'], CM = ['Africa/Douala'], CN = ['Asia/Shanghai', 'Asia/Urumqi'], CO = ['America/Bogota'], CR = ['America/Costa_Rica'], CU = ['America/Havana'], CV = ['Atlantic/Cape_Verde'], CW = ['America/Curacao'], CX = ['Indian/Christmas'], CY = ['Asia/Nicosia', 'Asia/Famagusta'], CZ = ['Europe/Prague'], DE = ['Europe/Berlin', 'Europe/Busingen'], DJ = ['Africa/Djibouti'], DK = ['Europe/Copenhagen'], DM = ['America/Dominica'], DO = ['America/Santo_Domingo'], DZ = ['Africa/Algiers'], EC = ['America/Guayaquil', 'Pacific/Galapagos'], EE = ['Europe/Tallinn'], EG = ['Africa/Cairo'], EH = ['Africa/El_Aaiun'], ER = ['Africa/Asmara'], ES = ['Europe/Madrid', 'Africa/Ceuta', 'Atlantic/Canary'], ET = ['Africa/Addis_Ababa'], FI = ['Europe/Helsinki'], FJ = ['Pacific/Fiji'], FK = ['Atlantic/Stanley'], FM = ['Pacific/Chuuk', 'Pacific/Pohnpei', 'Pacific/Kosrae'], FO = ['Atlantic/Faroe'], FR = ['Europe/Paris'], GA = ['Africa/Libreville'], GB = ['Europe/London'], GD = ['America/Grenada'], GE = ['Asia/Tbilisi'], GF = ['America/Cayenne'], GG = ['Europe/Guernsey'], GH = ['Africa/Accra'], GI = ['Europe/Gibraltar'], GL = ['America/Nuuk', 'America/Danmarkshavn', 'America/Scoresbysund', 'America/Thule'], GM = ['Africa/Banjul'], GN = ['Africa/Conakry'], GP = ['America/Guadeloupe'], GQ = ['Africa/Malabo'], GR = ['Europe/Athens'], GS = ['Atlantic/South_Georgia'], GT = ['America/Guatemala'], GU = ['Pacific/Guam'], GW = ['Africa/Bissau'], GY = ['America/Guyana'], HK = ['Asia/Hong_Kong'], HN = ['America/Tegucigalpa'], HR = ['Europe/Zagreb'], HT = ['America/Port-au-Prince'], HU = ['Europe/Budapest'], ID = ['Asia/Jakarta', 'Asia/Pontianak', 'Asia/Makassar', 'Asia/Jayapura'], IE = ['Europe/Dublin'], IL = ['Asia/Jerusalem'], IM = ['Europe/Isle_of_Man'], IN = ['Asia/Kolkata'], IO = ['Indian/Chagos'], IQ = ['Asia/Baghdad'], IR = ['Asia/Tehran'], IS = ['Atlantic/Reykjavik'], IT = ['Europe/Rome'], JE = ['Europe/Jersey'], JM = ['America/Jamaica'], JO = ['Asia/Amman'], JP = ['Asia/Tokyo'], KE = ['Africa/Nairobi'], KG = ['Asia/Bishkek'], KH = ['Asia/Phnom_Penh'], KI = ['Pacific/Tarawa', 'Pacific/Kanton', 'Pacific/Kiritimati'], KM = ['Indian/Comoro'], KN = ['America/St_Kitts'], KP = ['Asia/Pyongyang'], KR = ['Asia/Seoul'], KW = ['Asia/Kuwait'], KY = ['America/Cayman'], KZ = ['Asia/Almaty', 'Asia/Qyzylorda', 'Asia/Qostanay', 'Asia/Aqtobe', 'Asia/Aqtau', 'Asia/Atyrau', 'Asia/Oral'], LA = ['Asia/Vientiane'], LB = ['Asia/Beirut'], LC = ['America/St_Lucia'], LI = ['Europe/Vaduz'], LK = ['Asia/Colombo'], LR = ['Africa/Monrovia'], LS = ['Africa/Maseru'], LT = ['Europe/Vilnius'], LU = ['Europe/Luxembourg'], LV = ['Europe/Riga'], LY = ['Africa/Tripoli'], MA = ['Africa/Casablanca'], MC = ['Europe/Monaco'], MD = ['Europe/Chisinau'], ME = ['Europe/Podgorica'], MF = ['America/Marigot'], MG = ['Indian/Antananarivo'], MH = ['Pacific/Majuro', 'Pacific/Kwajalein'], MK = ['Europe/Skopje'], ML = ['Africa/Bamako'], MM = ['Asia/Yangon'], MN = ['Asia/Ulaanbaatar', 'Asia/Hovd', 'Asia/Choibalsan'], MO = ['Asia/Macau'], MP = ['Pacific/Saipan'], MQ = ['America/Martinique'], MR = ['Africa/Nouakchott'], MS = ['America/Montserrat'], MT = ['Europe/Malta'], MU = ['Indian/Mauritius'], MV = ['Indian/Maldives'], MW = ['Africa/Blantyre'], MX = ['America/Mexico_City', 'America/Cancun', 'America/Merida', 'America/Monterrey', 'America/Matamoros', 'America/Chihuahua', 'America/Ciudad_Juarez', 'America/Ojinaga', 'America/Mazatlan', 'America/Bahia_Banderas', 'America/Hermosillo', 'America/Tijuana'], MY = ['Asia/Kuala_Lumpur', 'Asia/Kuching'], MZ = ['Africa/Maputo'], NA = ['Africa/Windhoek'], NC = ['Pacific/Noumea'], NE = ['Africa/Niamey'], NF = ['Pacific/Norfolk'], NG = ['Africa/Lagos'], NI = ['America/Managua'], NL = ['Europe/Amsterdam'], NO = ['Europe/Oslo'], NP = ['Asia/Kathmandu'], NR = ['Pacific/Nauru'], NU = ['Pacific/Niue'], NZ = ['Pacific/Auckland', 'Pacific/Chatham'], OM = ['Asia/Muscat'], PA = ['America/Panama'], PE = ['America/Lima'], PF = ['Pacific/Tahiti', 'Pacific/Marquesas', 'Pacific/Gambier'], PG = ['Pacific/Port_Moresby', 'Pacific/Bougainville'], PH = ['Asia/Manila'], PK = ['Asia/Karachi'], PL = ['Europe/Warsaw'], PM = ['America/Miquelon'], PN = ['Pacific/Pitcairn'], PR = ['America/Puerto_Rico'], PS = ['Asia/Gaza', 'Asia/Hebron'], PT = ['Europe/Lisbon', 'Atlantic/Madeira', 'Atlantic/Azores'], PW = ['Pacific/Palau'], PY = ['America/Asuncion'], QA = ['Asia/Qatar'], RE = ['Indian/Reunion'], RO = ['Europe/Bucharest'], RS = ['Europe/Belgrade'], RU = ['Europe/Kaliningrad', 'Europe/Moscow', 'Europe/Kirov', 'Europe/Volgograd', 'Europe/Astrakhan', 'Europe/Saratov', 'Europe/Ulyanovsk', 'Europe/Samara', 'Asia/Yekaterinburg', 'Asia/Omsk', 'Asia/Novosibirsk', 'Asia/Barnaul', 'Asia/Tomsk', 'Asia/Novokuznetsk', 'Asia/Krasnoyarsk', 'Asia/Irkutsk', 'Asia/Chita', 'Asia/Yakutsk', 'Asia/Khandyga', 'Asia/Vladivostok', 'Asia/Ust-Nera', 'Asia/Magadan', 'Asia/Sakhalin', 'Asia/Srednekolymsk', 'Asia/Kamchatka', 'Asia/Anadyr'], UA = ['Europe/Simferopol', 'Europe/Kyiv'], RW = ['Africa/Kigali'], SA = ['Asia/Riyadh'], SB = ['Pacific/Guadalcanal'], SC = ['Indian/Mahe'], SD = ['Africa/Khartoum'], SE = ['Europe/Stockholm'], SG = ['Asia/Singapore'], SH = ['Atlantic/St_Helena'], SI = ['Europe/Ljubljana'], SJ = ['Arctic/Longyearbyen'], SK = ['Europe/Bratislava'], SL = ['Africa/Freetown'], SM = ['Europe/San_Marino'], SN = ['Africa/Dakar'], SO = ['Africa/Mogadishu'], SR = ['America/Paramaribo'], SS = ['Africa/Juba'], ST = ['Africa/Sao_Tome'], SV = ['America/El_Salvador'], SX = ['America/Lower_Princes'], SY = ['Asia/Damascus'], SZ = ['Africa/Mbabane'], TC = ['America/Grand_Turk'], TD = ['Africa/Ndjamena'], TF = ['Indian/Kerguelen'], TG = ['Africa/Lome'], TH = ['Asia/Bangkok'], TJ = ['Asia/Dushanbe'], TK = ['Pacific/Fakaofo'], TL = ['Asia/Dili'], TM = ['Asia/Ashgabat'], TN = ['Africa/Tunis'], TO = ['Pacific/Tongatapu'], TR = ['Europe/Istanbul'], TT = ['America/Port_of_Spain'], TV = ['Pacific/Funafuti'], TW = ['Asia/Taipei'], TZ = ['Africa/Dar_es_Salaam'], UG = ['Africa/Kampala'], UM = ['Pacific/Midway', 'Pacific/Wake'], US = ['America/New_York', 'America/Detroit', 'America/Kentucky/Louisville', 'America/Kentucky/Monticello', 'America/Indiana/Indianapolis', 'America/Indiana/Vincennes', 'America/Indiana/Winamac', 'America/Indiana/Marengo', 'America/Indiana/Petersburg', 'America/Indiana/Vevay', 'America/Chicago', 'America/Indiana/Tell_City', 'America/Indiana/Knox', 'America/Menominee', 'America/North_Dakota/Center', 'America/North_Dakota/New_Salem', 'America/North_Dakota/Beulah', 'America/Denver', 'America/Boise', 'America/Phoenix', 'America/Los_Angeles', 'America/Anchorage', 'America/Juneau', 'America/Sitka', 'America/Metlakatla', 'America/Yakutat', 'America/Nome', 'America/Adak', 'Pacific/Honolulu'], UY = ['America/Montevideo'], UZ = ['Asia/Samarkand', 'Asia/Tashkent'], VA = ['Europe/Vatican'], VC = ['America/St_Vincent'], VE = ['America/Caracas'], VG = ['America/Tortola'], VI = ['America/St_Thomas'], VN = ['Asia/Ho_Chi_Minh'], VU = ['Pacific/Efate'], WF = ['Pacific/Wallis'], WS = ['Pacific/Apia'], YE = ['Asia/Aden'], YT = ['Indian/Mayotte'], ZA = ['Africa/Johannesburg'], ZM = ['Africa/Lusaka'], ZW = ['Africa/Harare'], "
     ]
    }
   ],
   "source": [
    "print('country_timezones =')\n",
    "for key, val in pytz.country_timezones.items():\n",
    "    print(key, '=', val, end=', ')"
   ]
  },
  {
   "cell_type": "markdown",
   "metadata": {},
   "source": [
    "Time zones in the US:"
   ]
  },
  {
   "cell_type": "code",
   "execution_count": 36,
   "metadata": {},
   "outputs": [
    {
     "name": "stdout",
     "output_type": "stream",
     "text": [
      "Supported timezones by US = ['America/New_York', 'America/Detroit', 'America/Kentucky/Louisville', 'America/Kentucky/Monticello', 'America/Indiana/Indianapolis', 'America/Indiana/Vincennes', 'America/Indiana/Winamac', 'America/Indiana/Marengo', 'America/Indiana/Petersburg', 'America/Indiana/Vevay', 'America/Chicago', 'America/Indiana/Tell_City', 'America/Indiana/Knox', 'America/Menominee', 'America/North_Dakota/Center', 'America/North_Dakota/New_Salem', 'America/North_Dakota/Beulah', 'America/Denver', 'America/Boise', 'America/Phoenix', 'America/Los_Angeles', 'America/Anchorage', 'America/Juneau', 'America/Sitka', 'America/Metlakatla', 'America/Yakutat', 'America/Nome', 'America/Adak', 'Pacific/Honolulu']\n"
     ]
    }
   ],
   "source": [
    "print('Supported timezones by US =', pytz.country_timezones['US'])"
   ]
  },
  {
   "cell_type": "markdown",
   "metadata": {},
   "source": [
    "Get the current local date/time:"
   ]
  },
  {
   "cell_type": "code",
   "execution_count": 37,
   "metadata": {},
   "outputs": [
    {
     "name": "stdout",
     "output_type": "stream",
     "text": [
      "Local: 11/04/2024, 06:20:33\n",
      "Time zone info: None\n"
     ]
    }
   ],
   "source": [
    "local = datetime.datetime.now()\n",
    "print(\"Local:\", local.strftime(\"%m/%d/%Y, %H:%M:%S\"))\n",
    "print(\"Time zone info:\", local.tzinfo)"
   ]
  },
  {
   "cell_type": "markdown",
   "metadata": {},
   "source": [
    "Get the current UTC date/time:"
   ]
  },
  {
   "cell_type": "code",
   "execution_count": 38,
   "metadata": {},
   "outputs": [
    {
     "name": "stdout",
     "output_type": "stream",
     "text": [
      "UTC: 11/04/2024, 06:20:33\n",
      "Time zone info: UTC\n"
     ]
    }
   ],
   "source": [
    "datetime_UTC = datetime.datetime.now(pytz.utc)\n",
    "print(\"UTC:\", datetime_UTC.strftime(\"%m/%d/%Y, %H:%M:%S\"))\n",
    "print(\"Time zone info:\", datetime_UTC.tzinfo)"
   ]
  },
  {
   "cell_type": "markdown",
   "metadata": {},
   "source": [
    "Get the current date/time in the `America/Bahia_Banderas` time zone:"
   ]
  },
  {
   "cell_type": "code",
   "execution_count": 39,
   "metadata": {},
   "outputs": [
    {
     "name": "stdout",
     "output_type": "stream",
     "text": [
      "Bahia Banderas: 11/04/2024, 00:20:33\n",
      "Time zone info: America/Bahia_Banderas\n"
     ]
    }
   ],
   "source": [
    "tz_BB = pytz.timezone('America/Bahia_Banderas') \n",
    "datetime_BB = datetime.datetime.now(tz_BB)\n",
    "print(\"Bahia Banderas:\", datetime_BB.strftime(\"%m/%d/%Y, %H:%M:%S\"))\n",
    "print(\"Time zone info:\", datetime_BB.tzinfo)"
   ]
  },
  {
   "cell_type": "markdown",
   "metadata": {},
   "source": [
    "Get the current date/time in the `Europe/London` time zone:"
   ]
  },
  {
   "cell_type": "code",
   "execution_count": 40,
   "metadata": {},
   "outputs": [
    {
     "name": "stdout",
     "output_type": "stream",
     "text": [
      "London: 11/04/2024, 06:20:33\n",
      "Time zone info: Europe/London\n"
     ]
    }
   ],
   "source": [
    "tz_London = pytz.timezone('Europe/London')\n",
    "datetime_London = datetime.datetime.now(tz_London)\n",
    "print(\"London:\", datetime_London.strftime(\"%m/%d/%Y, %H:%M:%S\"))\n",
    "print(\"Time zone info:\", datetime_London.tzinfo)"
   ]
  },
  {
   "cell_type": "markdown",
   "metadata": {},
   "source": [
    "## Reference Documents\n",
    "\n",
    "- <A HREF=\"http://pleac.sourceforge.net/pleac_python/datesandtimes.html\">Dates and Times</A>\n",
    "- <A HREF=\"http://www.marinamele.com/2014/03/13-useful-tips-about-python-datetime.html\">Usedul Tips about Python datetime Objects</A>\n",
    "- <A HREF=\"https://pymotw.com/3/datetime/\">datetime - Date and Time Value Manipulation</A>\n",
    "- [google colab](https://colab.research.google.com/github/astg606/py_materials/blob/master/datetime/introduction_datetime.ipynb)"
   ]
  },
  {
   "cell_type": "code",
   "execution_count": null,
   "metadata": {},
   "outputs": [],
   "source": []
  }
 ],
 "metadata": {
  "kernelspec": {
   "display_name": "base",
   "language": "python",
   "name": "python3"
  },
  "language_info": {
   "codemirror_mode": {
    "name": "ipython",
    "version": 3
   },
   "file_extension": ".py",
   "mimetype": "text/x-python",
   "name": "python",
   "nbconvert_exporter": "python",
   "pygments_lexer": "ipython3",
   "version": "3.12.4"
  }
 },
 "nbformat": 4,
 "nbformat_minor": 1
}
