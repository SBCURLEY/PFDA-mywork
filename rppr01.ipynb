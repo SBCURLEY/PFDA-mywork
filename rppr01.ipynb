{
 "cells": [
  {
   "cell_type": "markdown",
   "metadata": {},
   "source": [
    "<div align=\"center\">\n",
    "\n",
    "# Programming for Data Analytics Project\n",
    "## Residential Property Price Register Analysis\n",
    "***\n",
    "\n",
    "</div>"
   ]
  },
  {
   "cell_type": "markdown",
   "metadata": {},
   "source": [
    "<p align=\"center\">\n",
    "    <img width=\"959\" height=\"539\" src=\"./images/housing_predictions.webp\" alt=\"Sublime's custom image\"/\n",
    "    >\n",
    "    </p>"
   ]
  },
  {
   "cell_type": "markdown",
   "metadata": {},
   "source": [
    "###### [Image from Forbes.com](https://www.forbes.com/advisor/mortgages/real-estate/housing-market-predictions/)"
   ]
  },
  {
   "cell_type": "markdown",
   "metadata": {},
   "source": [
    "### Table of Contents\n",
    "\n",
    "\n",
    "1. About the Project\n",
    "   \n",
    "2. Import Libraries\n",
    "   \n",
    "3. Load Data\n",
    "\n",
    "4. Data Exploration\n",
    "   \n",
    "    4.1  Check for the DataFrame\n",
    "\n",
    "    4.2  Check for the DataFrame dimensionality with pandas .info() method\n",
    "\n",
    "    4.3  Generate descriptive statistics with pandas .describe method\n",
    "\n",
    "    4.4  Check for missing values   \n",
    "\n",
    "5. Data Analysis\n",
    "   \n",
    "    5.1  Analysis of Property Prices for all years in Ireland (2010-2024)\n",
    "    \n",
    "     - 5.1.1    Average property prices by county\n",
    "\n",
    "     - 5.1.2    Average property prices by month\n",
    "\n",
    "     - 5.1.3    Number of occurrences of each property type\n",
    "\n",
    "     - 5.1.4    Full Market price comparison\n",
    "\n",
    "     - 5.1.5    Number of property sales by county\n",
    "\n",
    "     - 5.1.6    County with the highest and lowest average property prices\n",
    "  \n",
    "    5.2 Analysis of Property Prices for all years in Mayo (2010-2024)\n",
    " \n",
    "     - 5.2.1 \n",
    "\n",
    "     - 5.2.2 \n",
    "\n",
    "     - 5.2.3 \n",
    " \n",
    "6.  References"
   ]
  },
  {
   "cell_type": "markdown",
   "metadata": {},
   "source": [
    "### 1. About the Project\n",
    "***"
   ]
  },
  {
   "cell_type": "markdown",
   "metadata": {},
   "source": [
    "### 2. Import the Libraries\n",
    "***\n",
    "\n",
    "I imported the following libraries to plot the dataset.\n",
    "\n",
    "- `matplotlib.pyplot`: Essential for creating static, animated, and interactive visualizations in Python. It is closely integrated with NumPy and provides a MATLAB-like interface for creating plots and visualizations.\n",
    "- `numpy`: It contains functionality for multidimensional arrays, high-level mathematical functions such as linear algebra operations.\n",
    "- `pandas`: Fundamental data analysis and manipulation library built on top of the Python programming language. It offers data structures and operations for manipulating numerical tables and time series.\n",
    "- `seaborn`: Seaborn is a Python data visualization library based on matplotlib. It provides a high-level interface for drawing attractive and informative statistical graphics.\n",
    "- `datetime`: The datetime is a built-in module that provides classes for manipulating dates and times"
   ]
  },
  {
   "cell_type": "code",
   "execution_count": 2,
   "metadata": {},
   "outputs": [],
   "source": [
    "import matplotlib.pyplot as plt\n",
    "import numpy as np\n",
    "import pandas as pd\n",
    "import seaborn as sns\n",
    "import datetime"
   ]
  },
  {
   "cell_type": "markdown",
   "metadata": {},
   "source": [
    "### 3. Load the Data\n",
    "***\n",
    "Load the dataset from the Residential Property Price Register website https://www.propertypriceregister.ie/\n"
   ]
  },
  {
   "cell_type": "code",
   "execution_count": 5,
   "metadata": {},
   "outputs": [
    {
     "name": "stderr",
     "output_type": "stream",
     "text": [
      "C:\\Users\\curleys\\AppData\\Local\\Temp\\ipykernel_30620\\1623581419.py:1: DtypeWarning: Columns (8) have mixed types. Specify dtype option on import or set low_memory=False.\n",
      "  df=pd.read_csv(\"./data/ppr_all.csv\")\n"
     ]
    }
   ],
   "source": [
    "df=pd.read_csv(\"./data/ppr_all.csv\")"
   ]
  },
  {
   "cell_type": "markdown",
   "metadata": {},
   "source": [
    "### 4. Data Exploration\n",
    "***"
   ]
  },
  {
   "cell_type": "markdown",
   "metadata": {},
   "source": [
    "#### 4.1 Check the dataframe using df.head"
   ]
  },
  {
   "cell_type": "markdown",
   "metadata": {},
   "source": [
    "Lets have an initial glance at the data"
   ]
  },
  {
   "cell_type": "code",
   "execution_count": 66,
   "metadata": {},
   "outputs": [
    {
     "data": {
      "text/html": [
       "<div>\n",
       "<style scoped>\n",
       "    .dataframe tbody tr th:only-of-type {\n",
       "        vertical-align: middle;\n",
       "    }\n",
       "\n",
       "    .dataframe tbody tr th {\n",
       "        vertical-align: top;\n",
       "    }\n",
       "\n",
       "    .dataframe thead th {\n",
       "        text-align: right;\n",
       "    }\n",
       "</style>\n",
       "<table border=\"1\" class=\"dataframe\">\n",
       "  <thead>\n",
       "    <tr style=\"text-align: right;\">\n",
       "      <th></th>\n",
       "      <th>Date of Sale (dd/mm/yyyy)</th>\n",
       "      <th>Address</th>\n",
       "      <th>County</th>\n",
       "      <th>Eircode</th>\n",
       "      <th>Price in Euro</th>\n",
       "      <th>Not Full Market Price</th>\n",
       "      <th>VAT Exclusive</th>\n",
       "      <th>Description of Property</th>\n",
       "      <th>Property Size Description</th>\n",
       "    </tr>\n",
       "  </thead>\n",
       "  <tbody>\n",
       "    <tr>\n",
       "      <th>0</th>\n",
       "      <td>01/01/2010</td>\n",
       "      <td>5 Braemor Drive, Churchtown, Co.Dublin</td>\n",
       "      <td>Dublin</td>\n",
       "      <td>NaN</td>\n",
       "      <td>343000.0</td>\n",
       "      <td>No</td>\n",
       "      <td>No</td>\n",
       "      <td>Second-Hand Dwelling house /Apartment</td>\n",
       "      <td>NaN</td>\n",
       "    </tr>\n",
       "    <tr>\n",
       "      <th>1</th>\n",
       "      <td>03/01/2010</td>\n",
       "      <td>134 Ashewood Walk, Summerhill Lane, Portlaoise</td>\n",
       "      <td>Laois</td>\n",
       "      <td>NaN</td>\n",
       "      <td>185000.0</td>\n",
       "      <td>No</td>\n",
       "      <td>Yes</td>\n",
       "      <td>New Dwelling house /Apartment</td>\n",
       "      <td>greater than or equal to 38 sq metres and less...</td>\n",
       "    </tr>\n",
       "    <tr>\n",
       "      <th>2</th>\n",
       "      <td>04/01/2010</td>\n",
       "      <td>1 Meadow Avenue, Dundrum, Dublin 14</td>\n",
       "      <td>Dublin</td>\n",
       "      <td>NaN</td>\n",
       "      <td>438500.0</td>\n",
       "      <td>No</td>\n",
       "      <td>No</td>\n",
       "      <td>Second-Hand Dwelling house /Apartment</td>\n",
       "      <td>NaN</td>\n",
       "    </tr>\n",
       "    <tr>\n",
       "      <th>3</th>\n",
       "      <td>04/01/2010</td>\n",
       "      <td>1 The Haven, Mornington</td>\n",
       "      <td>Meath</td>\n",
       "      <td>NaN</td>\n",
       "      <td>400000.0</td>\n",
       "      <td>No</td>\n",
       "      <td>No</td>\n",
       "      <td>Second-Hand Dwelling house /Apartment</td>\n",
       "      <td>NaN</td>\n",
       "    </tr>\n",
       "    <tr>\n",
       "      <th>4</th>\n",
       "      <td>04/01/2010</td>\n",
       "      <td>11 Melville Heights, Kilkenny</td>\n",
       "      <td>Kilkenny</td>\n",
       "      <td>NaN</td>\n",
       "      <td>160000.0</td>\n",
       "      <td>No</td>\n",
       "      <td>No</td>\n",
       "      <td>Second-Hand Dwelling house /Apartment</td>\n",
       "      <td>NaN</td>\n",
       "    </tr>\n",
       "  </tbody>\n",
       "</table>\n",
       "</div>"
      ],
      "text/plain": [
       "  Date of Sale (dd/mm/yyyy)                                         Address  \\\n",
       "0                01/01/2010          5 Braemor Drive, Churchtown, Co.Dublin   \n",
       "1                03/01/2010  134 Ashewood Walk, Summerhill Lane, Portlaoise   \n",
       "2                04/01/2010             1 Meadow Avenue, Dundrum, Dublin 14   \n",
       "3                04/01/2010                         1 The Haven, Mornington   \n",
       "4                04/01/2010                   11 Melville Heights, Kilkenny   \n",
       "\n",
       "     County Eircode  Price in Euro Not Full Market Price VAT Exclusive  \\\n",
       "0    Dublin     NaN       343000.0                    No            No   \n",
       "1     Laois     NaN       185000.0                    No           Yes   \n",
       "2    Dublin     NaN       438500.0                    No            No   \n",
       "3     Meath     NaN       400000.0                    No            No   \n",
       "4  Kilkenny     NaN       160000.0                    No            No   \n",
       "\n",
       "                 Description of Property  \\\n",
       "0  Second-Hand Dwelling house /Apartment   \n",
       "1          New Dwelling house /Apartment   \n",
       "2  Second-Hand Dwelling house /Apartment   \n",
       "3  Second-Hand Dwelling house /Apartment   \n",
       "4  Second-Hand Dwelling house /Apartment   \n",
       "\n",
       "                           Property Size Description  \n",
       "0                                                NaN  \n",
       "1  greater than or equal to 38 sq metres and less...  \n",
       "2                                                NaN  \n",
       "3                                                NaN  \n",
       "4                                                NaN  "
      ]
     },
     "execution_count": 66,
     "metadata": {},
     "output_type": "execute_result"
    }
   ],
   "source": [
    "df.head(5)"
   ]
  },
  {
   "cell_type": "markdown",
   "metadata": {},
   "source": [
    "#### 4.2  Check for the DataFrame dimensionality with pandas .info() method"
   ]
  },
  {
   "cell_type": "markdown",
   "metadata": {},
   "source": [
    "The .info() method in Pandas provides valuable insights about the DataFrame. The information contains the number of columns, column labels, column data types, memory usage, range index, and the number of cells in each column (non-null values). The info() method does not return any value, it prints the information. [[1]](https://www.w3schools.com/python/pandas/ref_df_info.asp) \n",
    "\n",
    "The output of the .info() method consists of several key components: [[2]](https://machinelearningtutorials.org/a-comprehensive-guide-to-using-the-pandas-dataframe-info-method/)\n",
    "\n",
    "- The total number of rows (entries) in the DataFrame.\n",
    "\n",
    "- A summary of each column, including:\n",
    "  - The column name\n",
    "  - The number of non-null values\n",
    "  - The data type of the column\n",
    "  - The memory usage of the column\n",
    "\n",
    "The dataset contains the following columns:\n",
    "\n",
    "- Date of Sale (dd/mm/yyyy): Date when the property was sold.\n",
    "\n",
    "- Address: Address of the property.\n",
    "\n",
    "- County: The county in which the property is located.\n",
    "\n",
    "- Eircode: Eircode of the property.\n",
    "\n",
    "- Price in Euro: The sale price of the property in Euros.\n",
    "\n",
    "- Not Full Market Price: Indicates whether the sale was at the full market price.\n",
    "\n",
    "- VAT Exclusive: Indicates whether VAT was excluded in the sale price.\n",
    "\n",
    "- Description of Property: Type of property (e.g., second-hand or new).\n",
    "\n",
    "- Property Size Description: Description of the property size (e.g., \"greater than 125 sq metres\").\n"
   ]
  },
  {
   "cell_type": "code",
   "execution_count": 67,
   "metadata": {},
   "outputs": [
    {
     "name": "stdout",
     "output_type": "stream",
     "text": [
      "<class 'pandas.core.frame.DataFrame'>\n",
      "RangeIndex: 694503 entries, 0 to 694502\n",
      "Data columns (total 9 columns):\n",
      " #   Column                     Non-Null Count   Dtype  \n",
      "---  ------                     --------------   -----  \n",
      " 0   Date of Sale (dd/mm/yyyy)  694503 non-null  object \n",
      " 1   Address                    694503 non-null  object \n",
      " 2   County                     694503 non-null  object \n",
      " 3   Eircode                    166138 non-null  object \n",
      " 4   Price in Euro              694503 non-null  float64\n",
      " 5   Not Full Market Price      694503 non-null  object \n",
      " 6   VAT Exclusive              694503 non-null  object \n",
      " 7   Description of Property    694503 non-null  object \n",
      " 8   Property Size Description  52830 non-null   object \n",
      "dtypes: float64(1), object(8)\n",
      "memory usage: 47.7+ MB\n"
     ]
    }
   ],
   "source": [
    "df.info()"
   ]
  },
  {
   "cell_type": "markdown",
   "metadata": {},
   "source": [
    "Upon review, I can gather the following information:\n",
    "\n",
    "- The DataFrame contains 694503 rows and 9 columns.\n",
    "- The columns are: Date of Sale\", \"\"Address\", \"County\", \"Eircode\", \"Price in Euro\", \"Not Full Market Price\",\"VAT Exclusive\", \"Description of Property\" and \"Property Size Description\".\n",
    "- Some columns have non-null values, indicating that there are missing values in this dataset. Two variables of the columns have missing values.\n",
    "- One quantitative variables is numeric with type float64: \"Price in Euro\". \n",
    "- Eight qualitative variables are categorical with type object: \"Date of Sale\", \"\"Address\", \"County\", \"Eircode\", \"Not Full Market Price\",\"VAT Exclusive\", \"Description of Property\" and \"Property Size Description\".\n",
    "- The memory usage of this DataFrame is approximately 47.7 MB.\n",
    "\n",
    "###### [1] [w3schools Pandas DataFrame info() Method](https://www.w3schools.com/python/pandas/ref_df_info.asp)\n",
    "###### [2] [Understanding the .info output - Machine Learning Tutorials](https://machinelearningtutorials.org/a-comprehensive-guide-to-using-the-pandas-dataframe-info-method/)"
   ]
  },
  {
   "cell_type": "markdown",
   "metadata": {},
   "source": [
    "#### 4.3  Generate descriptive statistics with pandas df.describe method"
   ]
  },
  {
   "cell_type": "markdown",
   "metadata": {},
   "source": [
    "This analysis provides generalized descriptive statistics that summarises the central tendency of the data, the dispersion, and the shape of the dataset’s distribution. It also provides helpful information on missing NaN data. It includes the following statistics: [[3]](https://www.pythonlore.com/exploring-pandas-dataframe-describe-for-descriptive-statistics/)  [[4]](https://pandas.pydata.org/pandas-docs/version/0.20.2/generated/pandas.DataFrame.describe.html)\n",
    "\n",
    "By default, the describe() function only generates descriptive statistics for numeric columns in a pandas DataFrame. I specifying include='all' which will force pandas to generate summaries for all columns in the dataframe. Some data types don’t have any information. Pandas marks them as NaN.\n",
    "\n",
    "\n",
    "- Count: This represents the number of non-null (non-empty) values in the dataset for each column.\n",
    "\n",
    "- Unique: This will show the number of unique values in the column\n",
    "\n",
    "- Top: Ths will display the most common value in the column\n",
    "\n",
    "- Frequency: This will show the frequency of the top value within the column.\n",
    "\n",
    "- Mean: This will display the average value for each column.\n",
    "\n",
    "- Standard deviation: It indicates how spread out the values are around the mean. A higher standard deviation means the values are more spread out from the mean, while a lower standard deviation means the values are closer to the mean.\n",
    "\n",
    "- Minimum: It represents the lowest value in each column.\n",
    "\n",
    "- The default percentiles of the describe function are 25th, 50th, and 75th percentile or (0.25, 0.5, and 0.75).\n",
    "  \n",
    "- First quartile (25th percentile): 25% of the data values are below this value.\n",
    "\n",
    "- Second quartile (50th percentile): It represents the median, the middle value of the dataset.\n",
    "\n",
    "- Third quartile (75th percentile): 75% of the data values are below this value.\n",
    "\n",
    "- Maximum: It represents the highest value in the dataset."
   ]
  },
  {
   "cell_type": "code",
   "execution_count": 68,
   "metadata": {},
   "outputs": [
    {
     "data": {
      "text/html": [
       "<div>\n",
       "<style scoped>\n",
       "    .dataframe tbody tr th:only-of-type {\n",
       "        vertical-align: middle;\n",
       "    }\n",
       "\n",
       "    .dataframe tbody tr th {\n",
       "        vertical-align: top;\n",
       "    }\n",
       "\n",
       "    .dataframe thead th {\n",
       "        text-align: right;\n",
       "    }\n",
       "</style>\n",
       "<table border=\"1\" class=\"dataframe\">\n",
       "  <thead>\n",
       "    <tr style=\"text-align: right;\">\n",
       "      <th></th>\n",
       "      <th>Date of Sale (dd/mm/yyyy)</th>\n",
       "      <th>Address</th>\n",
       "      <th>County</th>\n",
       "      <th>Eircode</th>\n",
       "      <th>Price in Euro</th>\n",
       "      <th>Not Full Market Price</th>\n",
       "      <th>VAT Exclusive</th>\n",
       "      <th>Description of Property</th>\n",
       "      <th>Property Size Description</th>\n",
       "    </tr>\n",
       "  </thead>\n",
       "  <tbody>\n",
       "    <tr>\n",
       "      <th>count</th>\n",
       "      <td>694503</td>\n",
       "      <td>694503</td>\n",
       "      <td>694503</td>\n",
       "      <td>166138</td>\n",
       "      <td>6.945030e+05</td>\n",
       "      <td>694503</td>\n",
       "      <td>694503</td>\n",
       "      <td>694503</td>\n",
       "      <td>52830</td>\n",
       "    </tr>\n",
       "    <tr>\n",
       "      <th>unique</th>\n",
       "      <td>5145</td>\n",
       "      <td>622025</td>\n",
       "      <td>26</td>\n",
       "      <td>160850</td>\n",
       "      <td>NaN</td>\n",
       "      <td>2</td>\n",
       "      <td>2</td>\n",
       "      <td>5</td>\n",
       "      <td>6</td>\n",
       "    </tr>\n",
       "    <tr>\n",
       "      <th>top</th>\n",
       "      <td>22/12/2014</td>\n",
       "      <td>Broomfield, Midleton</td>\n",
       "      <td>Dublin</td>\n",
       "      <td>D24W9NN</td>\n",
       "      <td>NaN</td>\n",
       "      <td>No</td>\n",
       "      <td>No</td>\n",
       "      <td>Second-Hand Dwelling house /Apartment</td>\n",
       "      <td>greater than or equal to 38 sq metres and less...</td>\n",
       "    </tr>\n",
       "    <tr>\n",
       "      <th>freq</th>\n",
       "      <td>1542</td>\n",
       "      <td>21</td>\n",
       "      <td>217653</td>\n",
       "      <td>34</td>\n",
       "      <td>NaN</td>\n",
       "      <td>659594</td>\n",
       "      <td>579152</td>\n",
       "      <td>576951</td>\n",
       "      <td>38096</td>\n",
       "    </tr>\n",
       "    <tr>\n",
       "      <th>mean</th>\n",
       "      <td>NaN</td>\n",
       "      <td>NaN</td>\n",
       "      <td>NaN</td>\n",
       "      <td>NaN</td>\n",
       "      <td>2.977859e+05</td>\n",
       "      <td>NaN</td>\n",
       "      <td>NaN</td>\n",
       "      <td>NaN</td>\n",
       "      <td>NaN</td>\n",
       "    </tr>\n",
       "    <tr>\n",
       "      <th>std</th>\n",
       "      <td>NaN</td>\n",
       "      <td>NaN</td>\n",
       "      <td>NaN</td>\n",
       "      <td>NaN</td>\n",
       "      <td>1.024681e+06</td>\n",
       "      <td>NaN</td>\n",
       "      <td>NaN</td>\n",
       "      <td>NaN</td>\n",
       "      <td>NaN</td>\n",
       "    </tr>\n",
       "    <tr>\n",
       "      <th>min</th>\n",
       "      <td>NaN</td>\n",
       "      <td>NaN</td>\n",
       "      <td>NaN</td>\n",
       "      <td>NaN</td>\n",
       "      <td>5.001000e+03</td>\n",
       "      <td>NaN</td>\n",
       "      <td>NaN</td>\n",
       "      <td>NaN</td>\n",
       "      <td>NaN</td>\n",
       "    </tr>\n",
       "    <tr>\n",
       "      <th>25%</th>\n",
       "      <td>NaN</td>\n",
       "      <td>NaN</td>\n",
       "      <td>NaN</td>\n",
       "      <td>NaN</td>\n",
       "      <td>1.350000e+05</td>\n",
       "      <td>NaN</td>\n",
       "      <td>NaN</td>\n",
       "      <td>NaN</td>\n",
       "      <td>NaN</td>\n",
       "    </tr>\n",
       "    <tr>\n",
       "      <th>50%</th>\n",
       "      <td>NaN</td>\n",
       "      <td>NaN</td>\n",
       "      <td>NaN</td>\n",
       "      <td>NaN</td>\n",
       "      <td>2.270000e+05</td>\n",
       "      <td>NaN</td>\n",
       "      <td>NaN</td>\n",
       "      <td>NaN</td>\n",
       "      <td>NaN</td>\n",
       "    </tr>\n",
       "    <tr>\n",
       "      <th>75%</th>\n",
       "      <td>NaN</td>\n",
       "      <td>NaN</td>\n",
       "      <td>NaN</td>\n",
       "      <td>NaN</td>\n",
       "      <td>3.400000e+05</td>\n",
       "      <td>NaN</td>\n",
       "      <td>NaN</td>\n",
       "      <td>NaN</td>\n",
       "      <td>NaN</td>\n",
       "    </tr>\n",
       "    <tr>\n",
       "      <th>max</th>\n",
       "      <td>NaN</td>\n",
       "      <td>NaN</td>\n",
       "      <td>NaN</td>\n",
       "      <td>NaN</td>\n",
       "      <td>2.250000e+08</td>\n",
       "      <td>NaN</td>\n",
       "      <td>NaN</td>\n",
       "      <td>NaN</td>\n",
       "      <td>NaN</td>\n",
       "    </tr>\n",
       "  </tbody>\n",
       "</table>\n",
       "</div>"
      ],
      "text/plain": [
       "       Date of Sale (dd/mm/yyyy)               Address  County  Eircode  \\\n",
       "count                     694503                694503  694503   166138   \n",
       "unique                      5145                622025      26   160850   \n",
       "top                   22/12/2014  Broomfield, Midleton  Dublin  D24W9NN   \n",
       "freq                        1542                    21  217653       34   \n",
       "mean                         NaN                   NaN     NaN      NaN   \n",
       "std                          NaN                   NaN     NaN      NaN   \n",
       "min                          NaN                   NaN     NaN      NaN   \n",
       "25%                          NaN                   NaN     NaN      NaN   \n",
       "50%                          NaN                   NaN     NaN      NaN   \n",
       "75%                          NaN                   NaN     NaN      NaN   \n",
       "max                          NaN                   NaN     NaN      NaN   \n",
       "\n",
       "        Price in Euro Not Full Market Price VAT Exclusive  \\\n",
       "count    6.945030e+05                694503        694503   \n",
       "unique            NaN                     2             2   \n",
       "top               NaN                    No            No   \n",
       "freq              NaN                659594        579152   \n",
       "mean     2.977859e+05                   NaN           NaN   \n",
       "std      1.024681e+06                   NaN           NaN   \n",
       "min      5.001000e+03                   NaN           NaN   \n",
       "25%      1.350000e+05                   NaN           NaN   \n",
       "50%      2.270000e+05                   NaN           NaN   \n",
       "75%      3.400000e+05                   NaN           NaN   \n",
       "max      2.250000e+08                   NaN           NaN   \n",
       "\n",
       "                      Description of Property  \\\n",
       "count                                  694503   \n",
       "unique                                      5   \n",
       "top     Second-Hand Dwelling house /Apartment   \n",
       "freq                                   576951   \n",
       "mean                                      NaN   \n",
       "std                                       NaN   \n",
       "min                                       NaN   \n",
       "25%                                       NaN   \n",
       "50%                                       NaN   \n",
       "75%                                       NaN   \n",
       "max                                       NaN   \n",
       "\n",
       "                                Property Size Description  \n",
       "count                                               52830  \n",
       "unique                                                  6  \n",
       "top     greater than or equal to 38 sq metres and less...  \n",
       "freq                                                38096  \n",
       "mean                                                  NaN  \n",
       "std                                                   NaN  \n",
       "min                                                   NaN  \n",
       "25%                                                   NaN  \n",
       "50%                                                   NaN  \n",
       "75%                                                   NaN  \n",
       "max                                                   NaN  "
      ]
     },
     "execution_count": 68,
     "metadata": {},
     "output_type": "execute_result"
    }
   ],
   "source": [
    "df.describe(include=\"all\")\n"
   ]
  },
  {
   "cell_type": "markdown",
   "metadata": {},
   "source": [
    "Key interpretations can be made from this function, both for the quantitative and qualitative data. \n",
    "\n",
    "Null values: Confirming the observations made from .info, the count of THE \"Eircode\" and \"Property Size Description\" rows does not match the count of values the other columns, indicating missing data.\n",
    "\n",
    "###### [3] [Understanding the Output of pandas.DataFrame.describe](https://www.pythonlore.com/exploring-pandas-dataframe-describe-for-descriptive-statistics/)\n",
    "###### [4] [Pandas Documentation on pandas.DataFrame.describe](https://pandas.pydata.org/pandas-docs/version/0.20.2/generated/pandas.DataFrame.describe.html)"
   ]
  },
  {
   "cell_type": "markdown",
   "metadata": {},
   "source": [
    "#### 4.4 Check for missing data using df.isna"
   ]
  },
  {
   "cell_type": "code",
   "execution_count": 69,
   "metadata": {},
   "outputs": [
    {
     "name": "stdout",
     "output_type": "stream",
     "text": [
      "Date of Sale (dd/mm/yyyy)         0\n",
      "Address                           0\n",
      "County                            0\n",
      "Eircode                      528365\n",
      "Price in Euro                     0\n",
      "Not Full Market Price             0\n",
      "VAT Exclusive                     0\n",
      "Description of Property           0\n",
      "Property Size Description    641673\n",
      "dtype: int64\n"
     ]
    }
   ],
   "source": [
    "print(df.isna().sum())"
   ]
  },
  {
   "cell_type": "markdown",
   "metadata": {},
   "source": [
    "Two of the colums, \"Eircode\" and \"Property Size Description\" have missing values. I will keep this in  mind throughout the project."
   ]
  },
  {
   "cell_type": "markdown",
   "metadata": {},
   "source": [
    "## 5.   Data Analysis\n",
    "\n",
    "***"
   ]
  },
  {
   "cell_type": "markdown",
   "metadata": {},
   "source": [
    "### 5.1  Analysis of Property Prices for all years in Ireland (2010-2024)\n"
   ]
  },
  {
   "cell_type": "markdown",
   "metadata": {},
   "source": [
    "Before the analysis, I need to set to datetime. "
   ]
  },
  {
   "cell_type": "code",
   "execution_count": 70,
   "metadata": {},
   "outputs": [
    {
     "data": {
      "text/plain": [
       "0         01/01/2010\n",
       "1         03/01/2010\n",
       "2         04/01/2010\n",
       "3         04/01/2010\n",
       "4         04/01/2010\n",
       "             ...    \n",
       "694498    22/11/2024\n",
       "694499    22/11/2024\n",
       "694500    22/11/2024\n",
       "694501    22/11/2024\n",
       "694502    22/11/2024\n",
       "Name: Date of Sale (dd/mm/yyyy), Length: 694503, dtype: object"
      ]
     },
     "execution_count": 70,
     "metadata": {},
     "output_type": "execute_result"
    }
   ],
   "source": [
    "df[\"Date of Sale (dd/mm/yyyy)\"]"
   ]
  },
  {
   "cell_type": "code",
   "execution_count": 71,
   "metadata": {},
   "outputs": [],
   "source": [
    "df[\"Date of Sale\"] = pd.to_datetime(df[\"Date of Sale (dd/mm/yyyy)\"], format=\"%d/%m/%Y\")"
   ]
  },
  {
   "cell_type": "code",
   "execution_count": 72,
   "metadata": {},
   "outputs": [
    {
     "data": {
      "text/plain": [
       "0        2010-01-01\n",
       "1        2010-01-03\n",
       "2        2010-01-04\n",
       "3        2010-01-04\n",
       "4        2010-01-04\n",
       "            ...    \n",
       "694498   2024-11-22\n",
       "694499   2024-11-22\n",
       "694500   2024-11-22\n",
       "694501   2024-11-22\n",
       "694502   2024-11-22\n",
       "Name: Date of Sale, Length: 694503, dtype: datetime64[ns]"
      ]
     },
     "execution_count": 72,
     "metadata": {},
     "output_type": "execute_result"
    }
   ],
   "source": [
    "df['Date of Sale']"
   ]
  },
  {
   "cell_type": "code",
   "execution_count": 73,
   "metadata": {},
   "outputs": [
    {
     "name": "stdout",
     "output_type": "stream",
     "text": [
      "0         2010\n",
      "1         2010\n",
      "2         2010\n",
      "3         2010\n",
      "4         2010\n",
      "          ... \n",
      "694498    2024\n",
      "694499    2024\n",
      "694500    2024\n",
      "694501    2024\n",
      "694502    2024\n",
      "Name: Year, Length: 694503, dtype: int32\n"
     ]
    }
   ],
   "source": [
    "df[\"Year\"] = df[\"Date of Sale\"].dt.year\n",
    "print(df[\"Year\"])"
   ]
  },
  {
   "cell_type": "code",
   "execution_count": 74,
   "metadata": {},
   "outputs": [
    {
     "name": "stdout",
     "output_type": "stream",
     "text": [
      "0          1\n",
      "1          1\n",
      "2          1\n",
      "3          1\n",
      "4          1\n",
      "          ..\n",
      "694498    11\n",
      "694499    11\n",
      "694500    11\n",
      "694501    11\n",
      "694502    11\n",
      "Name: Month, Length: 694503, dtype: int32\n"
     ]
    }
   ],
   "source": [
    "df[\"Month\"] = df[\"Date of Sale\"].dt.month\n",
    "print (df[\"Month\"])"
   ]
  },
  {
   "cell_type": "code",
   "execution_count": null,
   "metadata": {},
   "outputs": [],
   "source": []
  },
  {
   "cell_type": "code",
   "execution_count": null,
   "metadata": {},
   "outputs": [],
   "source": []
  },
  {
   "cell_type": "markdown",
   "metadata": {},
   "source": [
    "#### 5.1.1 Average property prices by county (2010-2024)"
   ]
  },
  {
   "cell_type": "code",
   "execution_count": 75,
   "metadata": {},
   "outputs": [
    {
     "name": "stdout",
     "output_type": "stream",
     "text": [
      "County\n",
      "Dublin       467700.0\n",
      "Wicklow      372285.0\n",
      "Kildare      310133.0\n",
      "Meath        277372.0\n",
      "Cork         259692.0\n",
      "Galway       236303.0\n",
      "Kilkenny     220146.0\n",
      "Louth        216022.0\n",
      "Limerick     202135.0\n",
      "Wexford      195099.0\n",
      "Laois        191823.0\n",
      "Waterford    191452.0\n",
      "Kerry        188500.0\n",
      "Clare        188241.0\n",
      "Westmeath    185704.0\n",
      "Carlow       181083.0\n",
      "Offaly       169068.0\n",
      "Tipperary    161583.0\n",
      "Sligo        157058.0\n",
      "Monaghan     156578.0\n",
      "Mayo         150320.0\n",
      "Cavan        144464.0\n",
      "Donegal      137105.0\n",
      "Roscommon    127897.0\n",
      "Longford     122406.0\n",
      "Leitrim      122075.0\n",
      "Name: Price in Euro, dtype: float64\n"
     ]
    }
   ],
   "source": [
    "avg_price_by_county = df.groupby('County')['Price in Euro'].mean().sort_values(ascending=False).round()\n",
    "print(avg_price_by_county)"
   ]
  },
  {
   "cell_type": "code",
   "execution_count": null,
   "metadata": {},
   "outputs": [],
   "source": []
  },
  {
   "cell_type": "markdown",
   "metadata": {},
   "source": [
    "#### 5.1.2 Average property prices by month (2010-2024)"
   ]
  },
  {
   "cell_type": "code",
   "execution_count": 76,
   "metadata": {},
   "outputs": [
    {
     "name": "stdout",
     "output_type": "stream",
     "text": [
      "Month\n",
      "1     283823.0\n",
      "2     293714.0\n",
      "3     287168.0\n",
      "4     288848.0\n",
      "5     282617.0\n",
      "6     303963.0\n",
      "7     306255.0\n",
      "8     304590.0\n",
      "9     307859.0\n",
      "10    306818.0\n",
      "11    295199.0\n",
      "12    300688.0\n",
      "Name: Price in Euro, dtype: float64\n"
     ]
    }
   ],
   "source": [
    "avg_price_by_month = df.groupby('Month')['Price in Euro'].mean().round()\n",
    "print(avg_price_by_month)"
   ]
  },
  {
   "cell_type": "code",
   "execution_count": null,
   "metadata": {},
   "outputs": [],
   "source": []
  },
  {
   "cell_type": "markdown",
   "metadata": {},
   "source": [
    "#### 5.1.3 Number of occurrences of each property type"
   ]
  },
  {
   "cell_type": "code",
   "execution_count": 77,
   "metadata": {},
   "outputs": [
    {
     "name": "stdout",
     "output_type": "stream",
     "text": [
      "Description of Property\n",
      "Second-Hand Dwelling house /Apartment    576951\n",
      "New Dwelling house /Apartment            117508\n",
      "Teach/arasan Conaithe Athaimhe               40\n",
      "Teach/arasan Conaithe Nua                     3\n",
      "Teach/?ras?n C?naithe Nua                     1\n",
      "Name: count, dtype: int64\n"
     ]
    }
   ],
   "source": [
    "description_of_property_counts = df[\"Description of Property\"].value_counts()\n",
    "print(description_of_property_counts)"
   ]
  },
  {
   "cell_type": "code",
   "execution_count": null,
   "metadata": {},
   "outputs": [],
   "source": []
  },
  {
   "cell_type": "markdown",
   "metadata": {},
   "source": [
    "#### 5.1.4 Full Market price comparision"
   ]
  },
  {
   "cell_type": "code",
   "execution_count": 79,
   "metadata": {},
   "outputs": [
    {
     "name": "stdout",
     "output_type": "stream",
     "text": [
      "Not Full Market Price\n",
      "No     659594\n",
      "Yes     34909\n",
      "Name: count, dtype: int64\n"
     ]
    }
   ],
   "source": [
    "full_market_price_counts = df[\"Not Full Market Price\"].value_counts()\n",
    "print(full_market_price_counts)"
   ]
  },
  {
   "cell_type": "code",
   "execution_count": null,
   "metadata": {},
   "outputs": [],
   "source": []
  },
  {
   "cell_type": "markdown",
   "metadata": {},
   "source": [
    "#### 5.1.5 Number of property sales by county"
   ]
  },
  {
   "cell_type": "code",
   "execution_count": 80,
   "metadata": {},
   "outputs": [
    {
     "name": "stdout",
     "output_type": "stream",
     "text": [
      "County\n",
      "Dublin       217653\n",
      "Cork          76338\n",
      "Kildare       37418\n",
      "Galway        33874\n",
      "Meath         28622\n",
      "Limerick      25602\n",
      "Wexford       24193\n",
      "Wicklow       23105\n",
      "Kerry         19460\n",
      "Waterford     19128\n",
      "Louth         18966\n",
      "Donegal       18693\n",
      "Tipperary     18684\n",
      "Mayo          16667\n",
      "Clare         15650\n",
      "Westmeath     13446\n",
      "Laois         11194\n",
      "Kilkenny      11024\n",
      "Cavan         10466\n",
      "Sligo         10208\n",
      "Roscommon      9976\n",
      "Offaly         8806\n",
      "Carlow         7677\n",
      "Leitrim        6224\n",
      "Longford       5954\n",
      "Monaghan       5475\n",
      "Name: count, dtype: int64\n"
     ]
    }
   ],
   "source": [
    "county_counts = df[\"County\"].value_counts()\n",
    "print(county_counts)"
   ]
  },
  {
   "cell_type": "code",
   "execution_count": null,
   "metadata": {},
   "outputs": [],
   "source": []
  },
  {
   "cell_type": "markdown",
   "metadata": {},
   "source": [
    "#### 5.1.6 County with the highest and lowest average property prices"
   ]
  },
  {
   "cell_type": "code",
   "execution_count": 94,
   "metadata": {},
   "outputs": [
    {
     "name": "stdout",
     "output_type": "stream",
     "text": [
      "Dublin has the highest average property price in Ireland, with an average price of €467700.\n"
     ]
    }
   ],
   "source": [
    "highest_avg_price_county = avg_price_by_county.idxmax()\n",
    "highest_avg_price = int(avg_price_by_county.max())\n",
    "#print(highest_avg_price_county)\n",
    "#print(int(highest_avg_price))\n",
    "print(f\"{highest_avg_price_county} has the highest average property price in Ireland, with an average price of €{highest_avg_price}.\")"
   ]
  },
  {
   "cell_type": "code",
   "execution_count": 95,
   "metadata": {},
   "outputs": [
    {
     "name": "stdout",
     "output_type": "stream",
     "text": [
      "Leitrim has the lowest average property price in Ireland, with an average price of €122075.\n"
     ]
    }
   ],
   "source": [
    "lowest_avg_price_county = avg_price_by_county.idxmin()\n",
    "lowest_avg_price = int(avg_price_by_county.min())\n",
    "#print(lowest_avg_price_county)\n",
    "#print(lowest_avg_price)\n",
    "print(f\"{lowest_avg_price_county} has the lowest average property price in Ireland, with an average price of €{lowest_avg_price}.\")"
   ]
  },
  {
   "cell_type": "code",
   "execution_count": null,
   "metadata": {},
   "outputs": [],
   "source": []
  },
  {
   "cell_type": "markdown",
   "metadata": {},
   "source": [
    "### 5.2  Analysis"
   ]
  },
  {
   "cell_type": "markdown",
   "metadata": {},
   "source": [
    "5.2.1"
   ]
  },
  {
   "cell_type": "code",
   "execution_count": null,
   "metadata": {},
   "outputs": [],
   "source": []
  },
  {
   "cell_type": "markdown",
   "metadata": {},
   "source": [
    "5.2.2"
   ]
  },
  {
   "cell_type": "code",
   "execution_count": null,
   "metadata": {},
   "outputs": [],
   "source": []
  },
  {
   "cell_type": "markdown",
   "metadata": {},
   "source": [
    "5.2.3"
   ]
  },
  {
   "cell_type": "code",
   "execution_count": null,
   "metadata": {},
   "outputs": [],
   "source": []
  },
  {
   "cell_type": "code",
   "execution_count": null,
   "metadata": {},
   "outputs": [],
   "source": []
  },
  {
   "cell_type": "code",
   "execution_count": null,
   "metadata": {},
   "outputs": [],
   "source": []
  },
  {
   "cell_type": "markdown",
   "metadata": {},
   "source": [
    "## 6.   References\n",
    "\n",
    "***"
   ]
  },
  {
   "cell_type": "markdown",
   "metadata": {},
   "source": [
    "***\n",
    "## End\n",
    "\n"
   ]
  }
 ],
 "metadata": {
  "kernelspec": {
   "display_name": "base",
   "language": "python",
   "name": "python3"
  },
  "language_info": {
   "codemirror_mode": {
    "name": "ipython",
    "version": 3
   },
   "file_extension": ".py",
   "mimetype": "text/x-python",
   "name": "python",
   "nbconvert_exporter": "python",
   "pygments_lexer": "ipython3",
   "version": "3.12.4"
  }
 },
 "nbformat": 4,
 "nbformat_minor": 2
}
